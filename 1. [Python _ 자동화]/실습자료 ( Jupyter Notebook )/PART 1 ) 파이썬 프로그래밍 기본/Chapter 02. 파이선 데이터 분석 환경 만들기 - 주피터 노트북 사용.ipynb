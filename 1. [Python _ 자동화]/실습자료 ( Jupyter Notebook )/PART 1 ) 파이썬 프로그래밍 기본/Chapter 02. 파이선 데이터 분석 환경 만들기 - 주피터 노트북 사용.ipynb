{
 "cells": [
  {
   "cell_type": "markdown",
   "metadata": {},
   "source": [
    "# 주피터 노트북 사용하기 "
   ]
  },
  {
   "cell_type": "markdown",
   "metadata": {},
   "source": [
    "* 아래 처럼 기본적으로 셀은 Code 셀입니다."
   ]
  },
  {
   "cell_type": "code",
   "execution_count": 1,
   "metadata": {},
   "outputs": [
    {
     "name": "stdout",
     "output_type": "stream",
     "text": [
      "안녕하세요\n"
     ]
    }
   ],
   "source": [
    "print (\"안녕하세요\")"
   ]
  },
  {
   "cell_type": "markdown",
   "metadata": {},
   "source": [
    "* esc 버튼을 누르고(Command Mode) 해당 셀에서 m키를 누르면 MarkDown 셀로 변경됩니다.\n",
    "* 다시 y키를 누르면 code 셀로 변경됩니다."
   ]
  },
  {
   "cell_type": "markdown",
   "metadata": {},
   "source": [
    "print (\"안녕\")"
   ]
  },
  {
   "cell_type": "markdown",
   "metadata": {},
   "source": [
    "* Markdown 셀에서 코드를 넣고 싶다면 아래와 같이 사용합니다.\n",
    "* 아래 셀은 실행이 안된 셀입니다. 셀을 실행 시켜보세요"
   ]
  },
  {
   "cell_type": "markdown",
   "metadata": {},
   "source": [
    "```\n",
    "import keyword\n",
    "\n",
    "for x in keyword.kwlist:\n",
    "    print(\"{}\".format(x), end=\", \")\n",
    "```"
   ]
  },
  {
   "cell_type": "code",
   "execution_count": 2,
   "metadata": {},
   "outputs": [],
   "source": [
    "# 샾(#)으로 제목의 크기를 지정할 수 있습니다."
   ]
  },
  {
   "cell_type": "markdown",
   "metadata": {},
   "source": [
    "# 안녕하세요\n",
    "## 제목\n",
    "### 제목 \n",
    "#### 제목 \n",
    "##### 제목 \n",
    "###### 제목"
   ]
  },
  {
   "cell_type": "code",
   "execution_count": 3,
   "metadata": {},
   "outputs": [],
   "source": [
    "# 아래는 Markdown 문법을 사용하여 문장을 강조 하였습니다."
   ]
  },
  {
   "cell_type": "markdown",
   "metadata": {},
   "source": [
    "*퀀트 금융 공학*\n",
    "\n",
    "_퀀트 금융 공학_\n",
    "\n",
    "**퀀트 금융 공학**\n",
    "\n",
    "__퀀트 금융 공학__\n",
    "\n",
    "~~퀀트 금융 공학~~"
   ]
  },
  {
   "cell_type": "code",
   "execution_count": 4,
   "metadata": {},
   "outputs": [],
   "source": [
    "# 아래 처럼 글머리 모양도 지정할 수 있습니다."
   ]
  },
  {
   "cell_type": "markdown",
   "metadata": {},
   "source": [
    "* 퀀트\n",
    "    * 금융\n",
    "        * 공학"
   ]
  },
  {
   "cell_type": "markdown",
   "metadata": {},
   "source": [
    "**--를 사용하여 줄을 만들었습니다.**"
   ]
  },
  {
   "cell_type": "markdown",
   "metadata": {},
   "source": [
    "*안녕하세요*\n",
    "___\n",
    "*반갑습니다.*"
   ]
  },
  {
   "cell_type": "markdown",
   "metadata": {},
   "source": [
    "**>를 사용하여 블럭을 만들수 있습니다.**"
   ]
  },
  {
   "cell_type": "markdown",
   "metadata": {},
   "source": [
    "> block 1\n",
    "    > block 2 \n",
    "        > block 3"
   ]
  },
  {
   "cell_type": "markdown",
   "metadata": {},
   "source": [
    "* |를 사용하여 표를 생성할 수 있습니다. \n",
    "* 아래 셀을 실행하면 표로 변환되는 것을 확인할 수 있습니다. "
   ]
  },
  {
   "cell_type": "markdown",
   "metadata": {},
   "source": [
    "| 1  |2   | 3  | 4  | 5  | 6|\n",
    "|---|---|---|---|---|--|\n",
    "|  a | b  | c  | d  | e  | d |\n",
    "|  a | b  | c  | d  | e  | d |\n",
    "|  a | b  | c  | d  | e  | d |"
   ]
  },
  {
   "cell_type": "markdown",
   "metadata": {},
   "source": [
    "# 주피터 노트북 단축키"
   ]
  },
  {
   "cell_type": "markdown",
   "metadata": {},
   "source": [
    "* Ctrl + Enter : 현재 Cell 실행 \n",
    "* Shift + Enter : 아래의 Cell를 선택하고 Cell 실행 \n",
    "* Alt + Enter : Cell 실행하고 아래에 새 Cell 추가\n",
    "* Ctrl + s : notebook 저장 \n",
    "* Command Mode ( cell에서 esc 누르면 모드 전환)\n",
    "* y : code cell로 전환 / m: Markdown cell\n",
    "* a : 현재 Cell 이전에 새로운 Cell 만들기 / b : 현재 Cell 다음에 새로운 Cell 만들기 \n",
    "* dd : 현재 cell 삭제 \n",
    "* l : 라인번호 보이기 \n",
    "* h : 단축키 목록 보이기\n",
    "* Shift-Tab : 툴팁표시"
   ]
  },
  {
   "cell_type": "code",
   "execution_count": null,
   "metadata": {},
   "outputs": [],
   "source": [
    "\n",
    "\n",
    "\n",
    "\n",
    "\n",
    "\n",
    "\n",
    "\n"
   ]
  },
  {
   "cell_type": "markdown",
   "metadata": {},
   "source": [
    "# kernel 메뉴 설명\n",
    "* Interrupt : 현재 실행되고 있는 코드를 정지 시킬 때 사용합니다. \n",
    "* Restart : 커널을 재시작합니다. Output 결과는 남아 있고 메모리 및 변수들은 다 사라집니다.\n",
    "* Restart & Clear Output : 커널을 재시작과 동시에 결과 화면도 다 초기화 합니다. \n",
    "* Restart & Run All : 커널을 재시작하고 모든 셀을 자동으로 실행합니다. "
   ]
  },
  {
   "cell_type": "markdown",
   "metadata": {},
   "source": [
    "# Cell 메뉴 설명 \n",
    "* Run All Above : 해당 셀 위에 모든 셀을 실행  \n",
    "* Run All Below : 해당 셀 아래의 모든 셀을 실행"
   ]
  },
  {
   "cell_type": "code",
   "execution_count": null,
   "metadata": {},
   "outputs": [],
   "source": []
  }
 ],
 "metadata": {
  "kernelspec": {
   "display_name": "Python 3",
   "language": "python",
   "name": "python3"
  },
  "language_info": {
   "codemirror_mode": {
    "name": "ipython",
    "version": 3
   },
   "file_extension": ".py",
   "mimetype": "text/x-python",
   "name": "python",
   "nbconvert_exporter": "python",
   "pygments_lexer": "ipython3",
   "version": "3.7.0"
  }
 },
 "nbformat": 4,
 "nbformat_minor": 2
}
