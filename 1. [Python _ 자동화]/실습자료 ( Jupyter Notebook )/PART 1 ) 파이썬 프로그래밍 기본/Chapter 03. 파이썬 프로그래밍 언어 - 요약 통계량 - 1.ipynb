{
 "cells": [
  {
   "cell_type": "markdown",
   "metadata": {},
   "source": [
    "# 평균 함수 만들기\n",
    "* 사용자 함수 작성법을 이용하여 평균을 구하는 함수를 만들어 보겠습니다. \n"
   ]
  },
  {
   "cell_type": "code",
   "execution_count": 4,
   "metadata": {},
   "outputs": [],
   "source": [
    "# sec5 리스트에 5개의 int형 데이터를 입력합니다.\n",
    "sec5 = [45500, 46550, 45850, 44050, 43900]"
   ]
  },
  {
   "cell_type": "code",
   "execution_count": 5,
   "metadata": {},
   "outputs": [
    {
     "data": {
      "text/plain": [
       "45170.0"
      ]
     },
     "execution_count": 5,
     "metadata": {},
     "output_type": "execute_result"
    }
   ],
   "source": [
    "# 총 합을 총 개수를 나눠서 평균을 구해봅시다. \n",
    "# sum() 함수는 리스트 원소의 총 합을... \n",
    "# len() 함수는 리스트 원소의 총 개수를... \n",
    "sum(sec5) / len(sec5)"
   ]
  },
  {
   "cell_type": "markdown",
   "metadata": {},
   "source": [
    "### mean() 사용자 함수 만들기"
   ]
  },
  {
   "cell_type": "code",
   "execution_count": 7,
   "metadata": {},
   "outputs": [],
   "source": [
    "# mean 함수는 매개변수로 stock이라는 값을 전달 받습니다. \n",
    "def mean(stock):\n",
    "    return sum(stock) / len(stock)"
   ]
  },
  {
   "cell_type": "code",
   "execution_count": 8,
   "metadata": {},
   "outputs": [
    {
     "data": {
      "text/plain": [
       "45170.0"
      ]
     },
     "execution_count": 8,
     "metadata": {},
     "output_type": "execute_result"
    }
   ],
   "source": [
    "mean(sec5)"
   ]
  },
  {
   "cell_type": "markdown",
   "metadata": {},
   "source": [
    "## Moving Average를 구해봅시다."
   ]
  },
  {
   "cell_type": "code",
   "execution_count": 9,
   "metadata": {},
   "outputs": [],
   "source": [
    "close_value = [45500, 46550, 45850, 44050, 43900, 43700, 44200, 43850, 43850, 44650, 43650, 43800, 44450, 44000]"
   ]
  },
  {
   "cell_type": "markdown",
   "metadata": {},
   "source": [
    "* 강의안에는 없지만 MV 개념으로 함수를 만들어 보겠습니다. \n",
    "* 실제 MV를 계산은 pandas에서 쉽게 메소드를 이용하여 만들수 있습니다."
   ]
  },
  {
   "cell_type": "code",
   "execution_count": 27,
   "metadata": {},
   "outputs": [],
   "source": [
    "def ma_mean(stock, day):\n",
    "    start = 0\n",
    "    end = day\n",
    "    for cnt in range(start, len(stock)-day+1):\n",
    "        print (sum(stock[start:end]) / day)\n",
    "        start += 1\n",
    "        end += 1"
   ]
  },
  {
   "cell_type": "code",
   "execution_count": 30,
   "metadata": {},
   "outputs": [
    {
     "name": "stdout",
     "output_type": "stream",
     "text": [
      "45966.666666666664\n",
      "45483.333333333336\n",
      "44600.0\n",
      "43883.333333333336\n",
      "43933.333333333336\n",
      "43916.666666666664\n",
      "43966.666666666664\n",
      "44116.666666666664\n",
      "44050.0\n",
      "44033.333333333336\n",
      "43966.666666666664\n",
      "44083.333333333336\n"
     ]
    }
   ],
   "source": [
    "ma_mean(close_value, 3)"
   ]
  },
  {
   "cell_type": "markdown",
   "metadata": {},
   "source": [
    "* 검증을 해보겠습니다."
   ]
  },
  {
   "cell_type": "code",
   "execution_count": 34,
   "metadata": {},
   "outputs": [
    {
     "data": {
      "text/plain": [
       "45966.666666666664"
      ]
     },
     "execution_count": 34,
     "metadata": {},
     "output_type": "execute_result"
    }
   ],
   "source": [
    "sum([45500, 46550, 45850]) / 3"
   ]
  },
  {
   "cell_type": "markdown",
   "metadata": {},
   "source": [
    "## 기하평균 함수를 만들어 봅시다.\n",
    "* 수익율을 계산할 때 기하평균을 사용합니다."
   ]
  },
  {
   "cell_type": "code",
   "execution_count": 35,
   "metadata": {},
   "outputs": [],
   "source": [
    "# math library의 모든 함수들을 global name space에 올리겠습니다.\n",
    "from math import * "
   ]
  },
  {
   "cell_type": "code",
   "execution_count": 37,
   "metadata": {},
   "outputs": [],
   "source": [
    "# *를 사용하여 가변인수로 데이터를 받습니다. \n",
    "def geometrical(*arg):\n",
    "    print (arg)\n",
    "    # 백분율로 만들기 위한...\n",
    "    geometrical_list = [1 + (x/100) for x in arg]\n",
    "    print (geometrical_list)\n",
    "    total = 1\n",
    "    for x in geometrical_list:\n",
    "        total *= x\n",
    "    # pow() 함수를 사용하여 멱승을 구합니다.\n",
    "    return pow((total), 1/len(geometrical_list))"
   ]
  },
  {
   "cell_type": "markdown",
   "metadata": {},
   "source": [
    "* 10%, 20%, -15%의 수익을 얻었다면 평균 수익율은?"
   ]
  },
  {
   "cell_type": "code",
   "execution_count": 41,
   "metadata": {},
   "outputs": [
    {
     "name": "stdout",
     "output_type": "stream",
     "text": [
      "(10, 20, -15)\n",
      "[1.1, 1.2, 0.85]\n"
     ]
    },
    {
     "data": {
      "text/plain": [
       "0.0391166068457145"
      ]
     },
     "execution_count": 41,
     "metadata": {},
     "output_type": "execute_result"
    }
   ],
   "source": [
    "geometrical(10, 20, -15) - 1"
   ]
  },
  {
   "cell_type": "markdown",
   "metadata": {},
   "source": [
    "* 3.9%"
   ]
  },
  {
   "cell_type": "markdown",
   "metadata": {},
   "source": [
    "* 1000만원을 투자했다면... 그럼 얼마를 벌었는가?"
   ]
  },
  {
   "cell_type": "code",
   "execution_count": 42,
   "metadata": {},
   "outputs": [
    {
     "name": "stdout",
     "output_type": "stream",
     "text": [
      "(10, 20, -15)\n",
      "[1.1, 1.2, 0.85]\n"
     ]
    },
    {
     "data": {
      "text/plain": [
       "1122.0"
      ]
     },
     "execution_count": 42,
     "metadata": {},
     "output_type": "execute_result"
    }
   ],
   "source": [
    "1000 * geometrical(10,20, -15) ** len([10, 20, -15])"
   ]
  },
  {
   "cell_type": "markdown",
   "metadata": {},
   "source": [
    "## 최댓값, 최솟값"
   ]
  },
  {
   "cell_type": "markdown",
   "metadata": {},
   "source": [
    "* 위에서 만든 close_value 리스트 변수의 최댓값과 최솟값을 알아보겠습니다.\n",
    "* max() 함수는 최댓값을, min() 함수는 최솟값을 반환합니다."
   ]
  },
  {
   "cell_type": "code",
   "execution_count": 61,
   "metadata": {},
   "outputs": [
    {
     "data": {
      "text/plain": [
       "46550"
      ]
     },
     "execution_count": 61,
     "metadata": {},
     "output_type": "execute_result"
    }
   ],
   "source": [
    "max(close_value)"
   ]
  },
  {
   "cell_type": "code",
   "execution_count": 62,
   "metadata": {},
   "outputs": [
    {
     "data": {
      "text/plain": [
       "43650"
      ]
     },
     "execution_count": 62,
     "metadata": {},
     "output_type": "execute_result"
    }
   ],
   "source": [
    "min(close_value)"
   ]
  },
  {
   "cell_type": "markdown",
   "metadata": {},
   "source": [
    "## 중앙값\n",
    "* 데이터를 순서대로 늘어 놓았을때 그 중간에 오는 값을 의미"
   ]
  },
  {
   "cell_type": "code",
   "execution_count": 43,
   "metadata": {},
   "outputs": [],
   "source": [
    "stock = [5785, 4450, 3310, 3270, 3300, 3200, 3200, 2240, 2300, 2512]"
   ]
  },
  {
   "cell_type": "code",
   "execution_count": 44,
   "metadata": {},
   "outputs": [],
   "source": [
    "stock.sort()"
   ]
  },
  {
   "cell_type": "code",
   "execution_count": 45,
   "metadata": {},
   "outputs": [
    {
     "data": {
      "text/plain": [
       "[2240, 2300, 2512, 3200, 3200, 3270, 3300, 3310, 4450, 5785]"
      ]
     },
     "execution_count": 45,
     "metadata": {},
     "output_type": "execute_result"
    }
   ],
   "source": [
    "stock"
   ]
  },
  {
   "cell_type": "markdown",
   "metadata": {},
   "source": [
    "* 중앙값을 반환하는 함수"
   ]
  },
  {
   "cell_type": "code",
   "execution_count": 100,
   "metadata": {},
   "outputs": [],
   "source": [
    "def median(data):\n",
    "    length = len(data) \n",
    "    median = int(length / 2)\n",
    "    if(length % 2 ==0):\n",
    "        return (data[median-1] + data[median]) / 2\n",
    "    else:\n",
    "        return data[int(median)]"
   ]
  },
  {
   "cell_type": "code",
   "execution_count": 101,
   "metadata": {},
   "outputs": [
    {
     "data": {
      "text/plain": [
       "3235.0"
      ]
     },
     "execution_count": 101,
     "metadata": {},
     "output_type": "execute_result"
    }
   ],
   "source": [
    "median(stock)"
   ]
  },
  {
   "cell_type": "code",
   "execution_count": 102,
   "metadata": {},
   "outputs": [
    {
     "data": {
      "text/plain": [
       "4"
      ]
     },
     "execution_count": 102,
     "metadata": {},
     "output_type": "execute_result"
    }
   ],
   "source": [
    "median(ssss)"
   ]
  },
  {
   "cell_type": "markdown",
   "metadata": {},
   "source": [
    "## 분산\n",
    "* 분산은 평균값 주변에 데이터들이 모여 있는지 흩어져 있는지 알려주는 데이터입니다."
   ]
  },
  {
   "cell_type": "code",
   "execution_count": 59,
   "metadata": {},
   "outputs": [],
   "source": [
    "def variance(data):\n",
    "    vari_mean = mean(data)\n",
    "    diff = 0\n",
    "    for n in data:\n",
    "        diff += (n- vari_mean)**2\n",
    "    return diff/(len(data) - 1)"
   ]
  },
  {
   "cell_type": "code",
   "execution_count": 60,
   "metadata": {},
   "outputs": [
    {
     "data": {
      "text/plain": [
       "1136791.1222222224"
      ]
     },
     "execution_count": 60,
     "metadata": {},
     "output_type": "execute_result"
    }
   ],
   "source": [
    "variance(stock)"
   ]
  },
  {
   "cell_type": "markdown",
   "metadata": {},
   "source": [
    "## 편차\n",
    "* 데이터의 값과 평균값의 차이를 의미 \n",
    "* 편차가 큰 데이터가 많다는 것은 분산의 크기가 큰 데이터라고 말할 수 있습니다."
   ]
  },
  {
   "cell_type": "code",
   "execution_count": 57,
   "metadata": {},
   "outputs": [],
   "source": [
    "def stddev(data):\n",
    "    return variance(data)**0.5"
   ]
  },
  {
   "cell_type": "code",
   "execution_count": 58,
   "metadata": {},
   "outputs": [
    {
     "data": {
      "text/plain": [
       "1066.2040715652058"
      ]
     },
     "execution_count": 58,
     "metadata": {},
     "output_type": "execute_result"
    }
   ],
   "source": [
    "stddev(stock)"
   ]
  }
 ],
 "metadata": {
  "kernelspec": {
   "display_name": "Python 3",
   "language": "python",
   "name": "python3"
  },
  "language_info": {
   "codemirror_mode": {
    "name": "ipython",
    "version": 3
   },
   "file_extension": ".py",
   "mimetype": "text/x-python",
   "name": "python",
   "nbconvert_exporter": "python",
   "pygments_lexer": "ipython3",
   "version": "3.7.1"
  }
 },
 "nbformat": 4,
 "nbformat_minor": 2
}
