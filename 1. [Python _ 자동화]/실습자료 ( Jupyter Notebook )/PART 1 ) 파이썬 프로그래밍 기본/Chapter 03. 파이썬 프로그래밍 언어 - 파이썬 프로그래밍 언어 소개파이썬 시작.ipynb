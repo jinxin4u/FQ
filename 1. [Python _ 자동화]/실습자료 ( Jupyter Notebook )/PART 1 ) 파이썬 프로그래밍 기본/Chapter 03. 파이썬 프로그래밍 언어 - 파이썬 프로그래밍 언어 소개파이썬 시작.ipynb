{
 "cells": [
  {
   "cell_type": "markdown",
   "metadata": {},
   "source": [
    "# 도움말 보기\n",
    "* help() 함수를 사용하면 도움말을 확인할 수 있습니다."
   ]
  },
  {
   "cell_type": "code",
   "execution_count": 1,
   "metadata": {},
   "outputs": [
    {
     "name": "stdout",
     "output_type": "stream",
     "text": [
      "Help on built-in function print in module builtins:\n",
      "\n",
      "print(...)\n",
      "    print(value, ..., sep=' ', end='\\n', file=sys.stdout, flush=False)\n",
      "    \n",
      "    Prints the values to a stream, or to sys.stdout by default.\n",
      "    Optional keyword arguments:\n",
      "    file:  a file-like object (stream); defaults to the current sys.stdout.\n",
      "    sep:   string inserted between values, default a space.\n",
      "    end:   string appended after the last value, default a newline.\n",
      "    flush: whether to forcibly flush the stream.\n",
      "\n"
     ]
    }
   ],
   "source": [
    "help(print)"
   ]
  },
  {
   "cell_type": "markdown",
   "metadata": {},
   "source": [
    "# 화면 출력하기 \n",
    "* print() 함수를 사용하면 화면에 출력을 할 수 있습니다. \n",
    "* 콤마를 사용하여 출력을 하고 싶은 값을 전달합니다. \n",
    "* 콤마로 구분된 값들을 자동으로 스페이스를 붙여서 출력이 됩니다. \n",
    "* sep 옵션을 사용하면 두 개 이상의 값이 출력될 때 구분자를 넣을 수 있습니다. \n",
    "* 자세한 내용은 출력문에서 알아보겠습니다."
   ]
  },
  {
   "cell_type": "code",
   "execution_count": 3,
   "metadata": {},
   "outputs": [
    {
     "name": "stdout",
     "output_type": "stream",
     "text": [
      "Hello fastcampus\n"
     ]
    }
   ],
   "source": [
    "print (\"Hello\", \"fastcampus\")"
   ]
  },
  {
   "cell_type": "code",
   "execution_count": 4,
   "metadata": {},
   "outputs": [
    {
     "name": "stdout",
     "output_type": "stream",
     "text": [
      "Hello~~ fastcampus\n"
     ]
    }
   ],
   "source": [
    "print (\"Hello\", \"fastcampus\", sep=\"~~ \")"
   ]
  },
  {
   "cell_type": "markdown",
   "metadata": {},
   "source": [
    "# 주석\n",
    "**한줄 주석은 #를 붙여서 사용합니다.**"
   ]
  },
  {
   "cell_type": "code",
   "execution_count": 5,
   "metadata": {},
   "outputs": [],
   "source": [
    "# 이 구분은 주석입니다."
   ]
  },
  {
   "cell_type": "markdown",
   "metadata": {},
   "source": [
    "**여러 줄의 주석을 작성할 때는 ''' 를 사용합니다."
   ]
  },
  {
   "cell_type": "code",
   "execution_count": 7,
   "metadata": {},
   "outputs": [
    {
     "data": {
      "text/plain": [
       "'이 문장도 주석입니다.\\n안녕하세요'"
      ]
     },
     "execution_count": 7,
     "metadata": {},
     "output_type": "execute_result"
    }
   ],
   "source": [
    "\"\"\"이 문장도 주석입니다.\n",
    "안녕하세요\"\"\""
   ]
  },
  {
   "cell_type": "markdown",
   "metadata": {},
   "source": [
    "# 들여쓰기\n",
    "* 파이썬은 들여쓰기로 코드의 논리 구조를 파악합니다.\n",
    "* :를 사용한 문에서는 다음 줄은 들여쓰기가 적용되어 해당 블록은 :를 사용한 코드에 종속된 코드입니다. "
   ]
  },
  {
   "cell_type": "code",
   "execution_count": 9,
   "metadata": {},
   "outputs": [
    {
     "name": "stdout",
     "output_type": "stream",
     "text": [
      "참입니다.\n"
     ]
    }
   ],
   "source": [
    "if 1:\n",
    "    print(\"참입니다.\")\n",
    "else:\n",
    "    print (\"거짓입니다.\")"
   ]
  },
  {
   "cell_type": "code",
   "execution_count": null,
   "metadata": {},
   "outputs": [],
   "source": []
  }
 ],
 "metadata": {
  "kernelspec": {
   "display_name": "Python 3",
   "language": "python",
   "name": "python3"
  },
  "language_info": {
   "codemirror_mode": {
    "name": "ipython",
    "version": 3
   },
   "file_extension": ".py",
   "mimetype": "text/x-python",
   "name": "python",
   "nbconvert_exporter": "python",
   "pygments_lexer": "ipython3",
   "version": "3.7.0"
  }
 },
 "nbformat": 4,
 "nbformat_minor": 2
}
