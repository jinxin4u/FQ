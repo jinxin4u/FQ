{
 "cells": [
  {
   "cell_type": "markdown",
   "metadata": {},
   "source": [
    "# 요약 통계량\n",
    "* 금융에서 수리적, 계량적 기법을 적용하는 사람들을 퀀트라고 하는데, 컴퓨터를 이용해서 수치화하고 최적의 알고리즘을 적용하여 우리의 목적인 종목 및 전략을 세우는 것인데 이때 통계지식이 어느정도는 필요합니다."
   ]
  },
  {
   "cell_type": "markdown",
   "metadata": {},
   "source": [
    "## 산술평균 \n",
    "* 우리가 알고 있는 평균입니다. "
   ]
  },
  {
   "cell_type": "markdown",
   "metadata": {},
   "source": [
    "* 평균 구하기\n",
    "* 아래는 삼성전자 4월 26일 기준으로 22일까지 종가입니다. "
   ]
  },
  {
   "cell_type": "code",
   "execution_count": 1,
   "metadata": {},
   "outputs": [],
   "source": [
    "sec5 = [45500, 46550, 45850, 44050, 43900]"
   ]
  },
  {
   "cell_type": "code",
   "execution_count": 2,
   "metadata": {},
   "outputs": [
    {
     "data": {
      "text/plain": [
       "45170.0"
      ]
     },
     "execution_count": 2,
     "metadata": {},
     "output_type": "execute_result"
    }
   ],
   "source": [
    "sum(sec5) / len(sec5)"
   ]
  },
  {
   "cell_type": "markdown",
   "metadata": {},
   "source": [
    "* 5개의 데이터를 기준으로 평균을 구했습니다.\n",
    "* 해당 데이터는 2019년 3월 25일, 22일, 21일, 20일 19일 데이터입니다. \n",
    "* 5개를 기준으로 해당 날짜 포함하여 5개의 평균을 구하는것을 우리는 MA5 즉 Moving Average 5 Day라고 부릅니다."
   ]
  },
  {
   "cell_type": "markdown",
   "metadata": {},
   "source": [
    "* 3월 25일로부터 20개의 데이터를 사용하겠습니다. \n",
    "* 아래 데이터를 엑셀에서 붙여넣기 하니 콤마가 없어서 하나하나 콤마를 입력해야 합니다. \n",
    "* 귀차니즘으로 지금까지 배운 파이썬 문법을 사용해서 콤마를 붙이겠습니다."
   ]
  },
  {
   "cell_type": "code",
   "execution_count": 3,
   "metadata": {},
   "outputs": [],
   "source": [
    "a = \"\"\"45500\n",
    "46550\n",
    "45850\n",
    "44050\n",
    "43900\n",
    "43700\n",
    "44200\n",
    "43850\n",
    "43850\n",
    "44650\n",
    "43650\n",
    "43800\n",
    "44450\n",
    "44000\n",
    "44250\n",
    "44850\n",
    "45100\n",
    "46750\n",
    "46750\n",
    "47350\n",
    "\"\"\""
   ]
  },
  {
   "cell_type": "code",
   "execution_count": 4,
   "metadata": {},
   "outputs": [],
   "source": [
    "# 문자열 a변수를 split() 메소드를 사용하여 분리하고 list comprehension 방식으로 다시 list로 만들때 int() 함수를 사용하여 형변환\n",
    "sec20 = [int(x) for x in a.split()]"
   ]
  },
  {
   "cell_type": "markdown",
   "metadata": {},
   "source": [
    "* 아래는 보기 좋게 출력하기 위해서 지금까지 배운 문법사용합니다.\n",
    "* end 옵션은 print 함수가 자동으로 결과가 출력되고 다음 줄로 넘어가지만 해당 옵션을 사용하면 다르게 설정할수 있습니다. \n",
    "* 아래 예제는 다음 줄이 아닌 \", \"을 붙입니다."
   ]
  },
  {
   "cell_type": "code",
   "execution_count": 5,
   "metadata": {},
   "outputs": [
    {
     "name": "stdout",
     "output_type": "stream",
     "text": [
      "45500, 46550, 45850, 44050, 43900, 43700, 44200, 43850, 43850, 44650, 43650, 43800, 44450, 44000, 44250, 44850, 45100, 46750, 46750, 47350, "
     ]
    }
   ],
   "source": [
    "for x in sec20:\n",
    "    print(x, end=\", \")"
   ]
  },
  {
   "cell_type": "code",
   "execution_count": 6,
   "metadata": {},
   "outputs": [
    {
     "data": {
      "text/plain": [
       "44852.5"
      ]
     },
     "execution_count": 6,
     "metadata": {},
     "output_type": "execute_result"
    }
   ],
   "source": [
    "sum(sec20) / 20"
   ]
  },
  {
   "cell_type": "markdown",
   "metadata": {},
   "source": [
    "* MA20를 구해봤습니다. "
   ]
  },
  {
   "cell_type": "code",
   "execution_count": 7,
   "metadata": {},
   "outputs": [
    {
     "data": {
      "text/plain": [
       "[43900, 44050, 45850, 46550, 45500]"
      ]
     },
     "execution_count": 7,
     "metadata": {},
     "output_type": "execute_result"
    }
   ],
   "source": [
    "list(reversed(sec5))"
   ]
  },
  {
   "cell_type": "code",
   "execution_count": 8,
   "metadata": {},
   "outputs": [
    {
     "data": {
      "text/plain": [
       "[47350,\n",
       " 46750,\n",
       " 46750,\n",
       " 45100,\n",
       " 44850,\n",
       " 44250,\n",
       " 44000,\n",
       " 44450,\n",
       " 43800,\n",
       " 43650,\n",
       " 44650,\n",
       " 43850,\n",
       " 43850,\n",
       " 44200,\n",
       " 43700,\n",
       " 43900,\n",
       " 44050,\n",
       " 45850,\n",
       " 46550,\n",
       " 45500]"
      ]
     },
     "execution_count": 8,
     "metadata": {},
     "output_type": "execute_result"
    }
   ],
   "source": [
    "list(reversed(sec20))"
   ]
  },
  {
   "cell_type": "markdown",
   "metadata": {},
   "source": [
    "## 함수 만들기\n",
    "* 산술평균 함수를 만들어 보겠습니다. "
   ]
  },
  {
   "cell_type": "code",
   "execution_count": 9,
   "metadata": {},
   "outputs": [],
   "source": [
    "def mean(stock):\n",
    "    return sum(stock) / len(stock)"
   ]
  },
  {
   "cell_type": "code",
   "execution_count": 10,
   "metadata": {},
   "outputs": [
    {
     "data": {
      "text/plain": [
       "45170.0"
      ]
     },
     "execution_count": 10,
     "metadata": {},
     "output_type": "execute_result"
    }
   ],
   "source": [
    "mean(sec5)"
   ]
  },
  {
   "cell_type": "markdown",
   "metadata": {},
   "source": [
    "## 기하평균\n",
    "* 평균 수익율을 계산하고 싶다면 산술 평균이 아니라 기하평균으로 계산해야 합니다."
   ]
  },
  {
   "cell_type": "markdown",
   "metadata": {},
   "source": [
    "**모듈 부분에서 설명했지만,,**\n",
    "* pow는 내장 함수로 존재합니다.\n",
    "* math 라이브러리 안에 pow함수가 존재하고 이 두 pow함수는 약간의 차이가 있습니다.\n",
    "* 내장 pow는 결과값을 정수로, math의 pow는 결과값을 실수형으로.."
   ]
  },
  {
   "cell_type": "code",
   "execution_count": 11,
   "metadata": {},
   "outputs": [
    {
     "name": "stdout",
     "output_type": "stream",
     "text": [
      "Help on built-in function pow in module builtins:\n",
      "\n",
      "pow(x, y, z=None, /)\n",
      "    Equivalent to x**y (with two arguments) or x**y % z (with three arguments)\n",
      "    \n",
      "    Some types, such as ints, are able to use a more efficient algorithm when\n",
      "    invoked using the three argument form.\n",
      "\n"
     ]
    }
   ],
   "source": [
    "help(pow)"
   ]
  },
  {
   "cell_type": "code",
   "execution_count": 12,
   "metadata": {},
   "outputs": [
    {
     "name": "stdout",
     "output_type": "stream",
     "text": [
      "Help on built-in function pow in module math:\n",
      "\n",
      "pow(x, y, /)\n",
      "    Return x**y (x to the power of y).\n",
      "\n"
     ]
    }
   ],
   "source": [
    "import math \n",
    "help(math.pow)"
   ]
  },
  {
   "cell_type": "code",
   "execution_count": 13,
   "metadata": {},
   "outputs": [
    {
     "data": {
      "text/plain": [
       "16"
      ]
     },
     "execution_count": 13,
     "metadata": {},
     "output_type": "execute_result"
    }
   ],
   "source": [
    "pow(2,4)"
   ]
  },
  {
   "cell_type": "code",
   "execution_count": 14,
   "metadata": {},
   "outputs": [
    {
     "data": {
      "text/plain": [
       "16.0"
      ]
     },
     "execution_count": 14,
     "metadata": {},
     "output_type": "execute_result"
    }
   ],
   "source": [
    "math.pow(2,4)"
   ]
  },
  {
   "cell_type": "code",
   "execution_count": 15,
   "metadata": {},
   "outputs": [
    {
     "data": {
      "text/plain": [
       "1121.9462064709996"
      ]
     },
     "execution_count": 15,
     "metadata": {},
     "output_type": "execute_result"
    }
   ],
   "source": [
    "1000 * (1.0391)**3"
   ]
  },
  {
   "cell_type": "code",
   "execution_count": 16,
   "metadata": {},
   "outputs": [
    {
     "data": {
      "text/plain": [
       "1122.0"
      ]
     },
     "execution_count": 16,
     "metadata": {},
     "output_type": "execute_result"
    }
   ],
   "source": [
    "1000 * 1.1 * 1.2 * 0.85 "
   ]
  },
  {
   "cell_type": "code",
   "execution_count": 17,
   "metadata": {},
   "outputs": [],
   "source": [
    "from math import * # math 안에 있는 모든 메소드를 이름만 부르기 \n",
    "def geometrical(*arg):  # 가변인자로 값 받기 \n",
    "    print (arg)\n",
    "    geometrical_list  = [ 1 + (x/100) for x in arg] # list comprehension\n",
    "    print (geometrical_list)\n",
    "    total = 1\n",
    "    for x in geometrical_list:\n",
    "        total *= x\n",
    "    return pow((total),1/len(geometrical_list))"
   ]
  },
  {
   "cell_type": "code",
   "execution_count": 18,
   "metadata": {},
   "outputs": [
    {
     "name": "stdout",
     "output_type": "stream",
     "text": [
      "(10, 20, -15)\n",
      "[1.1, 1.2, 0.85]\n"
     ]
    },
    {
     "data": {
      "text/plain": [
       "0.0391166068457145"
      ]
     },
     "execution_count": 18,
     "metadata": {},
     "output_type": "execute_result"
    }
   ],
   "source": [
    "geometrical(10, 20, -15) - 1"
   ]
  },
  {
   "cell_type": "code",
   "execution_count": 19,
   "metadata": {},
   "outputs": [
    {
     "name": "stdout",
     "output_type": "stream",
     "text": [
      "(10, 20, -15)\n",
      "[1.1, 1.2, 0.85]\n"
     ]
    },
    {
     "data": {
      "text/plain": [
       "1122.0"
      ]
     },
     "execution_count": 19,
     "metadata": {},
     "output_type": "execute_result"
    }
   ],
   "source": [
    "1000 * geometrical(10, 20, -15)**len([10, 20, -15])"
   ]
  },
  {
   "cell_type": "code",
   "execution_count": 20,
   "metadata": {},
   "outputs": [
    {
     "name": "stdout",
     "output_type": "stream",
     "text": [
      "(20, 5, -7, -15)\n",
      "[1.2, 1.05, 0.9299999999999999, 0.85]\n"
     ]
    },
    {
     "data": {
      "text/plain": [
       "-0.0009939810155815687"
      ]
     },
     "execution_count": 20,
     "metadata": {},
     "output_type": "execute_result"
    }
   ],
   "source": [
    "geometrical(20, 5, -7, -15) - 1"
   ]
  },
  {
   "cell_type": "code",
   "execution_count": 21,
   "metadata": {},
   "outputs": [
    {
     "name": "stdout",
     "output_type": "stream",
     "text": [
      "(20, 5, -7, -15)\n",
      "[1.2, 1.05, 0.9299999999999999, 0.85]\n"
     ]
    },
    {
     "data": {
      "text/plain": [
       "10757123.999999998"
      ]
     },
     "execution_count": 21,
     "metadata": {},
     "output_type": "execute_result"
    }
   ],
   "source": [
    "10800000 * geometrical(20, 5, -7, -15)**len([20, 5, -7, -15])"
   ]
  },
  {
   "cell_type": "markdown",
   "metadata": {},
   "source": [
    "* 문제 : 1080만원을 a라는 주식에 투자하여 월별 수익률이 다음과 같이 나왔다. 그럼 평균 수익율은?\n",
    "    \n",
    "    > 20%, 5%, -7%, - 15%"
   ]
  },
  {
   "cell_type": "markdown",
   "metadata": {},
   "source": [
    "# 중앙값\n",
    "* 중앙값은 데이터를 순서대로 정렬하고 딱 중간에 오는 값입니다. \n",
    "* 데이터가 홀수일때는 중앙에 있는 값이지만, 짝수일때는 중앙의 두 값의 평균입니다."
   ]
  },
  {
   "cell_type": "code",
   "execution_count": 22,
   "metadata": {},
   "outputs": [],
   "source": [
    "stock = [5785, 4450, 3310, 3270, 3300, 3200, 3200, 2240, 2300, 2512]"
   ]
  },
  {
   "cell_type": "code",
   "execution_count": 23,
   "metadata": {},
   "outputs": [
    {
     "data": {
      "text/plain": [
       "3356.7"
      ]
     },
     "execution_count": 23,
     "metadata": {},
     "output_type": "execute_result"
    }
   ],
   "source": [
    "mean(stock)"
   ]
  },
  {
   "cell_type": "code",
   "execution_count": 24,
   "metadata": {},
   "outputs": [],
   "source": [
    "stock.sort()"
   ]
  },
  {
   "cell_type": "code",
   "execution_count": 25,
   "metadata": {},
   "outputs": [
    {
     "data": {
      "text/plain": [
       "[2240, 2300, 2512, 3200, 3200, 3270, 3300, 3310, 4450, 5785]"
      ]
     },
     "execution_count": 25,
     "metadata": {},
     "output_type": "execute_result"
    }
   ],
   "source": [
    "stock"
   ]
  },
  {
   "cell_type": "code",
   "execution_count": 26,
   "metadata": {},
   "outputs": [
    {
     "data": {
      "text/plain": [
       "3235.0"
      ]
     },
     "execution_count": 26,
     "metadata": {},
     "output_type": "execute_result"
    }
   ],
   "source": [
    "(3200+3270)/2 "
   ]
  },
  {
   "cell_type": "markdown",
   "metadata": {},
   "source": [
    "* 문제 : 중앙값을 구하는 함수를 작성하세요"
   ]
  },
  {
   "cell_type": "markdown",
   "metadata": {},
   "source": [
    "# 최댓값, 최솟값"
   ]
  },
  {
   "cell_type": "code",
   "execution_count": null,
   "metadata": {},
   "outputs": [],
   "source": [
    "max(sec20)"
   ]
  },
  {
   "cell_type": "code",
   "execution_count": null,
   "metadata": {},
   "outputs": [],
   "source": [
    "min(sec20)"
   ]
  },
  {
   "cell_type": "markdown",
   "metadata": {},
   "source": [
    "# 분산과 표준편차\n",
    "* 분산은 평균 값 주변에 데이터들이 모여 있는지 흩어져 있는지 알려주는 데이터입니다.\n",
    "* 편차는 데이터의 값과 평균값의 차이를 의미합니다. 편차가 큰 데이터가 많다면 분산의 크기도 커지겠죠? 그럼 표준편차도 크고.... \n",
    "* 표준편차는 데이터의 분포된 정보를 표시하며, 데이터가 평균에서 얼마나 떨어져 있는지 알려주는 지표입니다. "
   ]
  },
  {
   "cell_type": "markdown",
   "metadata": {},
   "source": [
    "* 분산을 계산해 주는 함수 예시입니다."
   ]
  },
  {
   "cell_type": "code",
   "execution_count": 31,
   "metadata": {},
   "outputs": [],
   "source": [
    "def variance(data):\n",
    "    vari_mean = mean(data)\n",
    "    diff = 0\n",
    "    for n in data:\n",
    "        diff += (n - vari_mean)**2\n",
    "    return diff/(len(data) - 1)"
   ]
  },
  {
   "cell_type": "code",
   "execution_count": 32,
   "metadata": {},
   "outputs": [
    {
     "data": {
      "text/plain": [
       "1136791.1222222224"
      ]
     },
     "execution_count": 32,
     "metadata": {},
     "output_type": "execute_result"
    }
   ],
   "source": [
    "variance(stock)"
   ]
  },
  {
   "cell_type": "markdown",
   "metadata": {},
   "source": [
    "* 표준편차를 계산하는 함수입니다."
   ]
  },
  {
   "cell_type": "code",
   "execution_count": 29,
   "metadata": {},
   "outputs": [],
   "source": [
    "def stddev(data):\n",
    "    return variance(data)**0.5"
   ]
  },
  {
   "cell_type": "code",
   "execution_count": 30,
   "metadata": {},
   "outputs": [
    {
     "data": {
      "text/plain": [
       "1066.2040715652058"
      ]
     },
     "execution_count": 30,
     "metadata": {},
     "output_type": "execute_result"
    }
   ],
   "source": [
    "stddev(stock)"
   ]
  },
  {
   "cell_type": "code",
   "execution_count": null,
   "metadata": {},
   "outputs": [],
   "source": []
  }
 ],
 "metadata": {
  "kernelspec": {
   "display_name": "Python 3",
   "language": "python",
   "name": "python3"
  },
  "language_info": {
   "codemirror_mode": {
    "name": "ipython",
    "version": 3
   },
   "file_extension": ".py",
   "mimetype": "text/x-python",
   "name": "python",
   "nbconvert_exporter": "python",
   "pygments_lexer": "ipython3",
   "version": "3.7.2"
  }
 },
 "nbformat": 4,
 "nbformat_minor": 2
}
