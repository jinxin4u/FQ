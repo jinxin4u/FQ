{
 "cells": [
  {
   "cell_type": "code",
   "execution_count": 1,
   "metadata": {},
   "outputs": [
    {
     "data": {
      "text/plain": [
       "'https://httpbin.org/get?key1=value1&key2=value2'"
      ]
     },
     "execution_count": 1,
     "metadata": {},
     "output_type": "execute_result"
    }
   ],
   "source": [
    "# -*- coding: utf-8 -*-\n",
    "\"\"\"\n",
    "Created on Tue Dec 10 23:11:47 2019\n",
    "\n",
    "@author: jinxi\n",
    "\"\"\"\n",
    "#%% requests 패키지 GET 방식 사용 예제\n",
    "import requests\n",
    "\n",
    "r = requests.get('https://api.github.com/events')\n",
    "\n",
    "payload = { 'key1' : 'value1', 'key2' : 'value2' }\n",
    "r = requests.get('https://httpbin.org/get', params = payload)\n",
    "r.status_code\n",
    "r.url"
   ]
  },
  {
   "cell_type": "code",
   "execution_count": 2,
   "metadata": {},
   "outputs": [
    {
     "data": {
      "text/plain": [
       "'https://search.naver.com/search.naver?sm=top_hty&fbm=1&ie=utf8&query=%ED%80%80%ED%8A%B8'"
      ]
     },
     "execution_count": 2,
     "metadata": {},
     "output_type": "execute_result"
    }
   ],
   "source": [
    "#%% requests GET방식 예시2\n",
    "\n",
    "naver_data = dict(\n",
    "        sm='top_hty',\n",
    "        fbm=1,\n",
    "        ie='utf8',\n",
    "        query='퀀트'\n",
    ")\n",
    "\n",
    "r = requests.get('https://search.naver.com/search.naver', params = naver_data)\n",
    "r.url"
   ]
  },
  {
   "cell_type": "code",
   "execution_count": 4,
   "metadata": {},
   "outputs": [
    {
     "data": {
      "text/plain": [
       "<Response [200]>"
      ]
     },
     "execution_count": 4,
     "metadata": {},
     "output_type": "execute_result"
    }
   ],
   "source": [
    "#%% header 값을 임의로 수정하여 GET 메소드 호출할 때 함꼐 전달하기\n",
    "\n",
    "header = {'User-Agent' : 'Mozilla/5.0 (Windows NT 10.0; Win64; x64; rv:66.0) Gecko/2010101 Firefox/66.0'}\n",
    "url = 'http://www.useragentstring.com/'\n",
    "\n",
    "r = requests.get(url, headers = header)\n",
    "\n",
    "r\n",
    "\n",
    "# requests의 리턴값인 Response 객체의 메소드 알아보기\n",
    "# r.request : 요청 정보 가진 객체\n",
    "# r.url : 요청한 url 문자열\n",
    "# r.cookie : cookie 정보 가진 객체\n",
    "# r.headers : dict 형식의 응답 헤더\n",
    "# r.status_code : 응답의 http 상태코드\n",
    "# r.ok : 상태코드가 정상이면 True, 비정상이면 False\n",
    "# r.text : 응답 본문값을 문자열로 출력\n",
    "# r.json() : 응답 본문을 JSON 형식으로 출력하여 dict형식으로 반환\n",
    "#%% requests POST방식"
   ]
  },
  {
   "cell_type": "code",
   "execution_count": 5,
   "metadata": {},
   "outputs": [
    {
     "name": "stdout",
     "output_type": "stream",
     "text": [
      "{\n",
      "  \"args\": {}, \n",
      "  \"data\": \"\", \n",
      "  \"files\": {}, \n",
      "  \"form\": {\n",
      "    \"key1\": \"value1\", \n",
      "    \"key2\": \"value2\"\n",
      "  }, \n",
      "  \"headers\": {\n",
      "    \"Accept\": \"*/*\", \n",
      "    \"Accept-Encoding\": \"gzip, deflate\", \n",
      "    \"Content-Length\": \"23\", \n",
      "    \"Content-Type\": \"application/x-www-form-urlencoded\", \n",
      "    \"Host\": \"httpbin.org\", \n",
      "    \"User-Agent\": \"python-requests/2.22.0\"\n",
      "  }, \n",
      "  \"json\": null, \n",
      "  \"origin\": \"122.202.203.140, 122.202.203.140\", \n",
      "  \"url\": \"https://httpbin.org/post\"\n",
      "}\n",
      "\n"
     ]
    }
   ],
   "source": [
    "import requests\n",
    "\n",
    "payload = { 'key1' : 'value1', 'key2' : 'value2' }\n",
    "\n",
    "r = requests.post(\"https://httpbin.org/post\", data = payload)\n",
    "print(r.text)"
   ]
  },
  {
   "cell_type": "code",
   "execution_count": 7,
   "metadata": {},
   "outputs": [],
   "source": [
    "#%% 세션 개념 : 서버에 상주하도록..\n",
    "\n",
    "s = requests.Session()\n",
    "s.headers.update({'User-Agent' : 'Mozilla/5.0 (Windows NT 10.0; Win64; x64; rv:66.0) Gecko/2010101 Firefox/66.0'})\n",
    "\n",
    "# 헤더를 변경해놓고 세선 상주하기\n",
    "r = s.get('http://naver.com')\n",
    "r = s.get('http://daum.net')"
   ]
  },
  {
   "cell_type": "code",
   "execution_count": null,
   "metadata": {},
   "outputs": [],
   "source": [
    "#%% Session 메소드를 with와 함께 사용하기\n",
    "with requests.Session() as s:\n",
    "    s.headers.update({'User-Agent' : 'Mozilla/5.0 (Windows NT 10.0; Win64; x64; rv:66.0) Gecko/2010101 Firefox/66.0'})\n",
    "    \n",
    "    r = s.get('http://naver.com')\n",
    "    r = s.get('http://daum.net')"
   ]
  },
  {
   "cell_type": "code",
   "execution_count": null,
   "metadata": {},
   "outputs": [],
   "source": [
    "#%% 파일 위치\n",
    "import os\n",
    "os.getcwd()"
   ]
  },
  {
   "cell_type": "code",
   "execution_count": 8,
   "metadata": {},
   "outputs": [
    {
     "name": "stdout",
     "output_type": "stream",
     "text": [
      "<html>\n",
      " <head>\n",
      "  <title>\n",
      "   IT IS TITLE\n",
      "  </title>\n",
      " </head>\n",
      " <body>\n",
      "  <p class=\"title\">\n",
      "   <b>\n",
      "    The...\n",
      "   </b>\n",
      "  </p>\n",
      "  <a href=\"naver.com\">\n",
      "   Naver.com\n",
      "  </a>\n",
      " </body>\n",
      "</html>\n",
      "\n"
     ]
    }
   ],
   "source": [
    "#%% bs4사용 예\n",
    "from bs4 import BeautifulSoup\n",
    "\n",
    "html_doc = \"\"\"\n",
    "<html><head><title>IT IS TITLE</title></head>\n",
    "<body><p class=\"title\"><b>The...</b></p>\n",
    "<a href=\"naver.com\">Naver.com</a>\n",
    "</body></html>\n",
    "\"\"\"\n",
    "soup = BeautifulSoup(html_doc, 'html.parser')\n",
    "\n",
    "print(soup.prettify())"
   ]
  },
  {
   "cell_type": "code",
   "execution_count": 10,
   "metadata": {},
   "outputs": [
    {
     "data": {
      "text/plain": [
       "<title>IT IS TITLE</title>"
      ]
     },
     "execution_count": 10,
     "metadata": {},
     "output_type": "execute_result"
    }
   ],
   "source": [
    "#%% title 태그의 정보 출력\n",
    "soup.title"
   ]
  },
  {
   "cell_type": "code",
   "execution_count": 12,
   "metadata": {},
   "outputs": [
    {
     "data": {
      "text/plain": [
       "'title'"
      ]
     },
     "execution_count": 12,
     "metadata": {},
     "output_type": "execute_result"
    }
   ],
   "source": [
    "#%% title 태그의 이름 출력\n",
    "soup.title.name"
   ]
  },
  {
   "cell_type": "code",
   "execution_count": 11,
   "metadata": {},
   "outputs": [
    {
     "data": {
      "text/plain": [
       "'IT IS TITLE'"
      ]
     },
     "execution_count": 11,
     "metadata": {},
     "output_type": "execute_result"
    }
   ],
   "source": [
    "#%% title 태그가 가진 내용 출력\n",
    "soup.title.string"
   ]
  },
  {
   "cell_type": "code",
   "execution_count": 13,
   "metadata": {},
   "outputs": [
    {
     "data": {
      "text/plain": [
       "<p class=\"title\"><b>The...</b></p>"
      ]
     },
     "execution_count": 13,
     "metadata": {},
     "output_type": "execute_result"
    }
   ],
   "source": [
    "#%% p 태그의 정보 출력\n",
    "soup.p"
   ]
  },
  {
   "cell_type": "code",
   "execution_count": 14,
   "metadata": {},
   "outputs": [
    {
     "data": {
      "text/plain": [
       "['title']"
      ]
     },
     "execution_count": 14,
     "metadata": {},
     "output_type": "execute_result"
    }
   ],
   "source": [
    "#%% p 태그가 가진 class를 출력\n",
    "soup.p['class']"
   ]
  },
  {
   "cell_type": "code",
   "execution_count": 15,
   "metadata": {},
   "outputs": [
    {
     "data": {
      "text/plain": [
       "<a href=\"naver.com\">Naver.com</a>"
      ]
     },
     "execution_count": 15,
     "metadata": {},
     "output_type": "execute_result"
    }
   ],
   "source": [
    "#%% a 태그의 정보 출력\n",
    "soup.a"
   ]
  },
  {
   "cell_type": "code",
   "execution_count": null,
   "metadata": {},
   "outputs": [],
   "source": [
    "#%% 문서상의 모든 a를 탐색\n",
    "soup.find_all('a')"
   ]
  },
  {
   "cell_type": "code",
   "execution_count": null,
   "metadata": {},
   "outputs": [],
   "source": [
    "#%% id가 link3라는 것만 출력\n",
    "soup.find(id='link3')"
   ]
  },
  {
   "cell_type": "code",
   "execution_count": null,
   "metadata": {},
   "outputs": [],
   "source": [
    "# class속성 검색을 원할 경우 : find(class_ = '클래스이름')  _는 기존의 class와의 충돌 피하기위해..\n",
    "# find('요소이름', attr={'속성이름':'값'}) 과같이 지정하면 조건 세밀하게 할수도..\n",
    "# parameter 형식\n",
    "#   name = None, attrs={}, recursive = True, text = None, **kwargs\n",
    "#   요소이름을 검색조건으로\n",
    "#   요소 속성이름과 값을 검색조건으로. 사전형으로 작성\n",
    "#   false 지정하면 바로 아래 자식 요소만 대상이..\n",
    "#   text - 요소의 내용(시작태그와 종료태그 사이의 텍스트)를 검색 조건으로 한다\n",
    "\n",
    "# find_all 메소드의 경우는 limit 인수도 있음\n",
    "# limit : 지정한 수만큼 요소가 발견되면 검색을 종료한다\n",
    "\n",
    "# find를 써서 tag 객체를 반환한다"
   ]
  },
  {
   "cell_type": "code",
   "execution_count": 16,
   "metadata": {},
   "outputs": [
    {
     "name": "stdout",
     "output_type": "stream",
     "text": [
      "naver.com\n"
     ]
    }
   ],
   "source": [
    "#%% Tag 객체의 리스트를 순회하며 get메서드를 사용하며 해당 키에 맞는 값 출력하기\n",
    "for link in soup.find_all('a'):\n",
    "    print (link.get('href'))"
   ]
  },
  {
   "cell_type": "code",
   "execution_count": 17,
   "metadata": {},
   "outputs": [
    {
     "data": {
      "text/plain": [
       "[            날짜       종가     전일비       시가       고가       저가         거래량\n",
       " 0          NaN      NaN     NaN      NaN      NaN      NaN         NaN\n",
       " 1   2019.10.17  50500.0   200.0  50500.0  50600.0  50100.0   6701380.0\n",
       " 2   2019.10.16  50700.0   600.0  50700.0  50900.0  50400.0   9136282.0\n",
       " 3   2019.10.15  50100.0   100.0  49900.0  50200.0  49900.0   6058105.0\n",
       " 4   2019.10.14  50000.0   850.0  50000.0  50300.0  49850.0  11130635.0\n",
       " 5   2019.10.11  49150.0   600.0  49000.0  49450.0  48800.0   7783275.0\n",
       " 6          NaN      NaN     NaN      NaN      NaN      NaN         NaN\n",
       " 7          NaN      NaN     NaN      NaN      NaN      NaN         NaN\n",
       " 8          NaN      NaN     NaN      NaN      NaN      NaN         NaN\n",
       " 9   2019.10.10  48550.0   350.0  48200.0  49200.0  48000.0  18639855.0\n",
       " 10  2019.10.08  48900.0  1150.0  47900.0  49000.0  47600.0  14239367.0\n",
       " 11  2019.10.07  47750.0   250.0  48350.0  48700.0  47650.0   7047273.0\n",
       " 12  2019.10.04  48000.0   400.0  47400.0  48650.0  47350.0   9331695.0\n",
       " 13  2019.10.02  47600.0  1250.0  48350.0  48400.0  47600.0   8382463.0\n",
       " 14         NaN      NaN     NaN      NaN      NaN      NaN         NaN,\n",
       "    0   1   2   3   4   5   6   7   8   9   10  11  12\n",
       " 0  맨앞   1   2   3   4   5   6   7   8   9  10  다음  맨뒤]"
      ]
     },
     "execution_count": 17,
     "metadata": {},
     "output_type": "execute_result"
    }
   ],
   "source": [
    "#%% request를 이용한 크롤링 예\n",
    "import requests\n",
    "import pandas as pd\n",
    "\n",
    "url = \"https://finance.naver.com/item/sise_day.nhn?code=005930&page=6\"\n",
    "\n",
    "result = pd.read_html(url)\n",
    "result\n",
    "\n",
    "\n",
    "\n"
   ]
  },
  {
   "cell_type": "code",
   "execution_count": 20,
   "metadata": {},
   "outputs": [
    {
     "data": {
      "text/html": [
       "<div>\n",
       "<style scoped>\n",
       "    .dataframe tbody tr th:only-of-type {\n",
       "        vertical-align: middle;\n",
       "    }\n",
       "\n",
       "    .dataframe tbody tr th {\n",
       "        vertical-align: top;\n",
       "    }\n",
       "\n",
       "    .dataframe thead th {\n",
       "        text-align: right;\n",
       "    }\n",
       "</style>\n",
       "<table border=\"1\" class=\"dataframe\">\n",
       "  <thead>\n",
       "    <tr style=\"text-align: right;\">\n",
       "      <th></th>\n",
       "      <th>날짜</th>\n",
       "      <th>종가</th>\n",
       "      <th>전일비</th>\n",
       "      <th>시가</th>\n",
       "      <th>고가</th>\n",
       "      <th>저가</th>\n",
       "      <th>거래량</th>\n",
       "    </tr>\n",
       "  </thead>\n",
       "  <tbody>\n",
       "    <tr>\n",
       "      <th>0</th>\n",
       "      <td>NaN</td>\n",
       "      <td>NaN</td>\n",
       "      <td>NaN</td>\n",
       "      <td>NaN</td>\n",
       "      <td>NaN</td>\n",
       "      <td>NaN</td>\n",
       "      <td>NaN</td>\n",
       "    </tr>\n",
       "    <tr>\n",
       "      <th>1</th>\n",
       "      <td>2019.10.17</td>\n",
       "      <td>50500.0</td>\n",
       "      <td>200.0</td>\n",
       "      <td>50500.0</td>\n",
       "      <td>50600.0</td>\n",
       "      <td>50100.0</td>\n",
       "      <td>6701380.0</td>\n",
       "    </tr>\n",
       "    <tr>\n",
       "      <th>2</th>\n",
       "      <td>2019.10.16</td>\n",
       "      <td>50700.0</td>\n",
       "      <td>600.0</td>\n",
       "      <td>50700.0</td>\n",
       "      <td>50900.0</td>\n",
       "      <td>50400.0</td>\n",
       "      <td>9136282.0</td>\n",
       "    </tr>\n",
       "    <tr>\n",
       "      <th>3</th>\n",
       "      <td>2019.10.15</td>\n",
       "      <td>50100.0</td>\n",
       "      <td>100.0</td>\n",
       "      <td>49900.0</td>\n",
       "      <td>50200.0</td>\n",
       "      <td>49900.0</td>\n",
       "      <td>6058105.0</td>\n",
       "    </tr>\n",
       "    <tr>\n",
       "      <th>4</th>\n",
       "      <td>2019.10.14</td>\n",
       "      <td>50000.0</td>\n",
       "      <td>850.0</td>\n",
       "      <td>50000.0</td>\n",
       "      <td>50300.0</td>\n",
       "      <td>49850.0</td>\n",
       "      <td>11130635.0</td>\n",
       "    </tr>\n",
       "    <tr>\n",
       "      <th>5</th>\n",
       "      <td>2019.10.11</td>\n",
       "      <td>49150.0</td>\n",
       "      <td>600.0</td>\n",
       "      <td>49000.0</td>\n",
       "      <td>49450.0</td>\n",
       "      <td>48800.0</td>\n",
       "      <td>7783275.0</td>\n",
       "    </tr>\n",
       "    <tr>\n",
       "      <th>6</th>\n",
       "      <td>NaN</td>\n",
       "      <td>NaN</td>\n",
       "      <td>NaN</td>\n",
       "      <td>NaN</td>\n",
       "      <td>NaN</td>\n",
       "      <td>NaN</td>\n",
       "      <td>NaN</td>\n",
       "    </tr>\n",
       "    <tr>\n",
       "      <th>7</th>\n",
       "      <td>NaN</td>\n",
       "      <td>NaN</td>\n",
       "      <td>NaN</td>\n",
       "      <td>NaN</td>\n",
       "      <td>NaN</td>\n",
       "      <td>NaN</td>\n",
       "      <td>NaN</td>\n",
       "    </tr>\n",
       "    <tr>\n",
       "      <th>8</th>\n",
       "      <td>NaN</td>\n",
       "      <td>NaN</td>\n",
       "      <td>NaN</td>\n",
       "      <td>NaN</td>\n",
       "      <td>NaN</td>\n",
       "      <td>NaN</td>\n",
       "      <td>NaN</td>\n",
       "    </tr>\n",
       "    <tr>\n",
       "      <th>9</th>\n",
       "      <td>2019.10.10</td>\n",
       "      <td>48550.0</td>\n",
       "      <td>350.0</td>\n",
       "      <td>48200.0</td>\n",
       "      <td>49200.0</td>\n",
       "      <td>48000.0</td>\n",
       "      <td>18639855.0</td>\n",
       "    </tr>\n",
       "    <tr>\n",
       "      <th>10</th>\n",
       "      <td>2019.10.08</td>\n",
       "      <td>48900.0</td>\n",
       "      <td>1150.0</td>\n",
       "      <td>47900.0</td>\n",
       "      <td>49000.0</td>\n",
       "      <td>47600.0</td>\n",
       "      <td>14239367.0</td>\n",
       "    </tr>\n",
       "    <tr>\n",
       "      <th>11</th>\n",
       "      <td>2019.10.07</td>\n",
       "      <td>47750.0</td>\n",
       "      <td>250.0</td>\n",
       "      <td>48350.0</td>\n",
       "      <td>48700.0</td>\n",
       "      <td>47650.0</td>\n",
       "      <td>7047273.0</td>\n",
       "    </tr>\n",
       "    <tr>\n",
       "      <th>12</th>\n",
       "      <td>2019.10.04</td>\n",
       "      <td>48000.0</td>\n",
       "      <td>400.0</td>\n",
       "      <td>47400.0</td>\n",
       "      <td>48650.0</td>\n",
       "      <td>47350.0</td>\n",
       "      <td>9331695.0</td>\n",
       "    </tr>\n",
       "    <tr>\n",
       "      <th>13</th>\n",
       "      <td>2019.10.02</td>\n",
       "      <td>47600.0</td>\n",
       "      <td>1250.0</td>\n",
       "      <td>48350.0</td>\n",
       "      <td>48400.0</td>\n",
       "      <td>47600.0</td>\n",
       "      <td>8382463.0</td>\n",
       "    </tr>\n",
       "    <tr>\n",
       "      <th>14</th>\n",
       "      <td>NaN</td>\n",
       "      <td>NaN</td>\n",
       "      <td>NaN</td>\n",
       "      <td>NaN</td>\n",
       "      <td>NaN</td>\n",
       "      <td>NaN</td>\n",
       "      <td>NaN</td>\n",
       "    </tr>\n",
       "  </tbody>\n",
       "</table>\n",
       "</div>"
      ],
      "text/plain": [
       "            날짜       종가     전일비       시가       고가       저가         거래량\n",
       "0          NaN      NaN     NaN      NaN      NaN      NaN         NaN\n",
       "1   2019.10.17  50500.0   200.0  50500.0  50600.0  50100.0   6701380.0\n",
       "2   2019.10.16  50700.0   600.0  50700.0  50900.0  50400.0   9136282.0\n",
       "3   2019.10.15  50100.0   100.0  49900.0  50200.0  49900.0   6058105.0\n",
       "4   2019.10.14  50000.0   850.0  50000.0  50300.0  49850.0  11130635.0\n",
       "5   2019.10.11  49150.0   600.0  49000.0  49450.0  48800.0   7783275.0\n",
       "6          NaN      NaN     NaN      NaN      NaN      NaN         NaN\n",
       "7          NaN      NaN     NaN      NaN      NaN      NaN         NaN\n",
       "8          NaN      NaN     NaN      NaN      NaN      NaN         NaN\n",
       "9   2019.10.10  48550.0   350.0  48200.0  49200.0  48000.0  18639855.0\n",
       "10  2019.10.08  48900.0  1150.0  47900.0  49000.0  47600.0  14239367.0\n",
       "11  2019.10.07  47750.0   250.0  48350.0  48700.0  47650.0   7047273.0\n",
       "12  2019.10.04  48000.0   400.0  47400.0  48650.0  47350.0   9331695.0\n",
       "13  2019.10.02  47600.0  1250.0  48350.0  48400.0  47600.0   8382463.0\n",
       "14         NaN      NaN     NaN      NaN      NaN      NaN         NaN"
      ]
     },
     "execution_count": 20,
     "metadata": {},
     "output_type": "execute_result"
    }
   ],
   "source": [
    "result[0]"
   ]
  },
  {
   "cell_type": "code",
   "execution_count": 21,
   "metadata": {},
   "outputs": [
    {
     "data": {
      "text/html": [
       "<div>\n",
       "<style scoped>\n",
       "    .dataframe tbody tr th:only-of-type {\n",
       "        vertical-align: middle;\n",
       "    }\n",
       "\n",
       "    .dataframe tbody tr th {\n",
       "        vertical-align: top;\n",
       "    }\n",
       "\n",
       "    .dataframe thead th {\n",
       "        text-align: right;\n",
       "    }\n",
       "</style>\n",
       "<table border=\"1\" class=\"dataframe\">\n",
       "  <thead>\n",
       "    <tr style=\"text-align: right;\">\n",
       "      <th></th>\n",
       "      <th>날짜</th>\n",
       "      <th>종가</th>\n",
       "      <th>전일비</th>\n",
       "      <th>시가</th>\n",
       "      <th>고가</th>\n",
       "      <th>저가</th>\n",
       "      <th>거래량</th>\n",
       "    </tr>\n",
       "  </thead>\n",
       "  <tbody>\n",
       "    <tr>\n",
       "      <th>1</th>\n",
       "      <td>2019.10.17</td>\n",
       "      <td>50500.0</td>\n",
       "      <td>200.0</td>\n",
       "      <td>50500.0</td>\n",
       "      <td>50600.0</td>\n",
       "      <td>50100.0</td>\n",
       "      <td>6701380.0</td>\n",
       "    </tr>\n",
       "    <tr>\n",
       "      <th>2</th>\n",
       "      <td>2019.10.16</td>\n",
       "      <td>50700.0</td>\n",
       "      <td>600.0</td>\n",
       "      <td>50700.0</td>\n",
       "      <td>50900.0</td>\n",
       "      <td>50400.0</td>\n",
       "      <td>9136282.0</td>\n",
       "    </tr>\n",
       "    <tr>\n",
       "      <th>3</th>\n",
       "      <td>2019.10.15</td>\n",
       "      <td>50100.0</td>\n",
       "      <td>100.0</td>\n",
       "      <td>49900.0</td>\n",
       "      <td>50200.0</td>\n",
       "      <td>49900.0</td>\n",
       "      <td>6058105.0</td>\n",
       "    </tr>\n",
       "    <tr>\n",
       "      <th>4</th>\n",
       "      <td>2019.10.14</td>\n",
       "      <td>50000.0</td>\n",
       "      <td>850.0</td>\n",
       "      <td>50000.0</td>\n",
       "      <td>50300.0</td>\n",
       "      <td>49850.0</td>\n",
       "      <td>11130635.0</td>\n",
       "    </tr>\n",
       "    <tr>\n",
       "      <th>5</th>\n",
       "      <td>2019.10.11</td>\n",
       "      <td>49150.0</td>\n",
       "      <td>600.0</td>\n",
       "      <td>49000.0</td>\n",
       "      <td>49450.0</td>\n",
       "      <td>48800.0</td>\n",
       "      <td>7783275.0</td>\n",
       "    </tr>\n",
       "    <tr>\n",
       "      <th>9</th>\n",
       "      <td>2019.10.10</td>\n",
       "      <td>48550.0</td>\n",
       "      <td>350.0</td>\n",
       "      <td>48200.0</td>\n",
       "      <td>49200.0</td>\n",
       "      <td>48000.0</td>\n",
       "      <td>18639855.0</td>\n",
       "    </tr>\n",
       "    <tr>\n",
       "      <th>10</th>\n",
       "      <td>2019.10.08</td>\n",
       "      <td>48900.0</td>\n",
       "      <td>1150.0</td>\n",
       "      <td>47900.0</td>\n",
       "      <td>49000.0</td>\n",
       "      <td>47600.0</td>\n",
       "      <td>14239367.0</td>\n",
       "    </tr>\n",
       "    <tr>\n",
       "      <th>11</th>\n",
       "      <td>2019.10.07</td>\n",
       "      <td>47750.0</td>\n",
       "      <td>250.0</td>\n",
       "      <td>48350.0</td>\n",
       "      <td>48700.0</td>\n",
       "      <td>47650.0</td>\n",
       "      <td>7047273.0</td>\n",
       "    </tr>\n",
       "    <tr>\n",
       "      <th>12</th>\n",
       "      <td>2019.10.04</td>\n",
       "      <td>48000.0</td>\n",
       "      <td>400.0</td>\n",
       "      <td>47400.0</td>\n",
       "      <td>48650.0</td>\n",
       "      <td>47350.0</td>\n",
       "      <td>9331695.0</td>\n",
       "    </tr>\n",
       "    <tr>\n",
       "      <th>13</th>\n",
       "      <td>2019.10.02</td>\n",
       "      <td>47600.0</td>\n",
       "      <td>1250.0</td>\n",
       "      <td>48350.0</td>\n",
       "      <td>48400.0</td>\n",
       "      <td>47600.0</td>\n",
       "      <td>8382463.0</td>\n",
       "    </tr>\n",
       "  </tbody>\n",
       "</table>\n",
       "</div>"
      ],
      "text/plain": [
       "            날짜       종가     전일비       시가       고가       저가         거래량\n",
       "1   2019.10.17  50500.0   200.0  50500.0  50600.0  50100.0   6701380.0\n",
       "2   2019.10.16  50700.0   600.0  50700.0  50900.0  50400.0   9136282.0\n",
       "3   2019.10.15  50100.0   100.0  49900.0  50200.0  49900.0   6058105.0\n",
       "4   2019.10.14  50000.0   850.0  50000.0  50300.0  49850.0  11130635.0\n",
       "5   2019.10.11  49150.0   600.0  49000.0  49450.0  48800.0   7783275.0\n",
       "9   2019.10.10  48550.0   350.0  48200.0  49200.0  48000.0  18639855.0\n",
       "10  2019.10.08  48900.0  1150.0  47900.0  49000.0  47600.0  14239367.0\n",
       "11  2019.10.07  47750.0   250.0  48350.0  48700.0  47650.0   7047273.0\n",
       "12  2019.10.04  48000.0   400.0  47400.0  48650.0  47350.0   9331695.0\n",
       "13  2019.10.02  47600.0  1250.0  48350.0  48400.0  47600.0   8382463.0"
      ]
     },
     "execution_count": 21,
     "metadata": {},
     "output_type": "execute_result"
    }
   ],
   "source": [
    "stock = result[0].dropna()\n",
    "stock"
   ]
  },
  {
   "cell_type": "code",
   "execution_count": null,
   "metadata": {},
   "outputs": [],
   "source": [
    "#%% Selenium 메소드의 기능\n",
    "\n",
    "# 웹 페이지의 DOM 정보를 바탕으로 선택자를 선택할 수 있\n",
    "#   find_element_by_id() : id값을 사용하여 위치 찾기\n",
    "#   find_element_by_css_selector() : css요소의 표기 방법으로 된 위치를 찾\n",
    "#   find_element_by_xpath() : xml의 특정 요소로 지정된 위치를 찾\n",
    "\n",
    "# 선택자 함수 사용하면 브라우저에 해당 항목을 선택한 것처럼 됨\n",
    "# 선택자 함수들의 click(), send_key() 메소드를 가지고 있,\n",
    "#   get() : 특정 사이트로 이동도..\n",
    "#   click() : 선택자 함수로 선택된 곳을 실제로 클릭\n",
    "#   clear() : 선택된 곳에 타이핑 된 내용을 삭제\n",
    "#   implicitly_wait() : 브라우저에서 웹페이지 요소들이 로딩될 수 있도록 특정시간 기다려주는..\n",
    "#   send_key() : 선택자 함수로 선택된 곳에 키보드로 타이핑하는 것처럼 데이터 전송\n",
    "#   page_source : drive가 보고 있는 웹 데이터를 가지고 있는 문자열 변수\n",
    "#%% selenium : JS가 있는 사이트에서 데이터 가저오기 위함\n",
    "from selenium import webdriver\n",
    "\n",
    "driver = webdriver.Chrome('C:/chromedriver/chromedriver.exe')"
   ]
  },
  {
   "cell_type": "code",
   "execution_count": null,
   "metadata": {},
   "outputs": [],
   "source": [
    "#%% selenium 예제\n",
    "from selenium import webdriver\n",
    "from bs4 import BeautifulSoup\n",
    "url = \"https://fastcampus.co.kr\"\n",
    "driver = webdriver.Chrome('C:/chromedriver/chromedriver.exe')\n",
    "driver.get(url) # get:특정 사이트로 이동할 수 있도록 드라이버에게 요청"
   ]
  },
  {
   "cell_type": "code",
   "execution_count": null,
   "metadata": {},
   "outputs": [],
   "source": [
    "#%%\n",
    "# XPath는 XML의 특정 요소를 지정할 때 사용\n",
    "# CSS 선택자는 CSS로 요소를 디자인 할 때 사용하는 표기 방법\n",
    "# CSS 선택자가 보기 편하고 간편하다\n",
    "\n",
    "#css선택자\n",
    "#theme-page > div:nth-child(9) > div > div.theme-content.no-padding > div:nth-child(1) > div > div:nth-child(3) > div:nth-child(1) > div > div > div > figure > a > img\n",
    "#Xpath\n",
    "//*[@id=\"theme-page\"]/div[9]/div/div[1]/div[1]/div/div[3]/div[1]/div/div/div/figure/a/img"
   ]
  },
  {
   "cell_type": "code",
   "execution_count": null,
   "metadata": {},
   "outputs": [],
   "source": [
    "#%% selenium이 클릭하도록\n",
    "driver.find_element_by_xpath(//*[@id=\"theme-page\"]/div[9]/div/div[1]/div[1]/div/div[3]/div[1]/div/div/div/figure/a/img).click()"
   ]
  },
  {
   "cell_type": "code",
   "execution_count": null,
   "metadata": {},
   "outputs": [],
   "source": [
    "#%% \n",
    "driver.page_source # 셀레니엄이 이동한 최종 html 페이지의 코드"
   ]
  },
  {
   "cell_type": "code",
   "execution_count": null,
   "metadata": {},
   "outputs": [],
   "source": [
    "#%% 이거 파싱하려면\n",
    "bs = BeautifulSoup(driver.page_source, \"lxml\")"
   ]
  },
  {
   "cell_type": "code",
   "execution_count": null,
   "metadata": {},
   "outputs": [],
   "source": [
    "#%% 팬텀js 기본\n",
    "from selenium import webdriver\n",
    "driver = webdriver.PhantomJS('C:/phantomjs-2.1.1-windows/bin/phantomjs.exe')"
   ]
  },
  {
   "cell_type": "markdown",
   "metadata": {},
   "source": [
    "# Pandas 기능 중 read_html 메소드 알아보기"
   ]
  },
  {
   "cell_type": "code",
   "execution_count": 22,
   "metadata": {},
   "outputs": [
    {
     "data": {
      "text/html": [
       "<div>\n",
       "<style scoped>\n",
       "    .dataframe tbody tr th:only-of-type {\n",
       "        vertical-align: middle;\n",
       "    }\n",
       "\n",
       "    .dataframe tbody tr th {\n",
       "        vertical-align: top;\n",
       "    }\n",
       "\n",
       "    .dataframe thead th {\n",
       "        text-align: right;\n",
       "    }\n",
       "</style>\n",
       "<table border=\"1\" class=\"dataframe\">\n",
       "  <thead>\n",
       "    <tr style=\"text-align: right;\">\n",
       "      <th></th>\n",
       "      <th>날짜</th>\n",
       "      <th>체결가</th>\n",
       "      <th>전일비</th>\n",
       "      <th>등락률</th>\n",
       "      <th>거래량(천주)</th>\n",
       "      <th>거래대금(백만)</th>\n",
       "    </tr>\n",
       "  </thead>\n",
       "  <tbody>\n",
       "    <tr>\n",
       "      <th>0</th>\n",
       "      <td>NaN</td>\n",
       "      <td>NaN</td>\n",
       "      <td>NaN</td>\n",
       "      <td>NaN</td>\n",
       "      <td>NaN</td>\n",
       "      <td>NaN</td>\n",
       "    </tr>\n",
       "    <tr>\n",
       "      <th>1</th>\n",
       "      <td>2019.12.27</td>\n",
       "      <td>2204.21</td>\n",
       "      <td>6.28</td>\n",
       "      <td>+0.29%</td>\n",
       "      <td>490167.0</td>\n",
       "      <td>5429665.0</td>\n",
       "    </tr>\n",
       "    <tr>\n",
       "      <th>2</th>\n",
       "      <td>2019.12.26</td>\n",
       "      <td>2197.93</td>\n",
       "      <td>7.85</td>\n",
       "      <td>+0.36%</td>\n",
       "      <td>571309.0</td>\n",
       "      <td>4795109.0</td>\n",
       "    </tr>\n",
       "    <tr>\n",
       "      <th>3</th>\n",
       "      <td>2019.12.24</td>\n",
       "      <td>2190.08</td>\n",
       "      <td>13.63</td>\n",
       "      <td>-0.62%</td>\n",
       "      <td>569967.0</td>\n",
       "      <td>4756454.0</td>\n",
       "    </tr>\n",
       "    <tr>\n",
       "      <th>4</th>\n",
       "      <td>NaN</td>\n",
       "      <td>NaN</td>\n",
       "      <td>NaN</td>\n",
       "      <td>NaN</td>\n",
       "      <td>NaN</td>\n",
       "      <td>NaN</td>\n",
       "    </tr>\n",
       "    <tr>\n",
       "      <th>5</th>\n",
       "      <td>NaN</td>\n",
       "      <td>NaN</td>\n",
       "      <td>NaN</td>\n",
       "      <td>NaN</td>\n",
       "      <td>NaN</td>\n",
       "      <td>NaN</td>\n",
       "    </tr>\n",
       "    <tr>\n",
       "      <th>6</th>\n",
       "      <td>NaN</td>\n",
       "      <td>NaN</td>\n",
       "      <td>NaN</td>\n",
       "      <td>NaN</td>\n",
       "      <td>NaN</td>\n",
       "      <td>NaN</td>\n",
       "    </tr>\n",
       "    <tr>\n",
       "      <th>7</th>\n",
       "      <td>NaN</td>\n",
       "      <td>NaN</td>\n",
       "      <td>NaN</td>\n",
       "      <td>NaN</td>\n",
       "      <td>NaN</td>\n",
       "      <td>NaN</td>\n",
       "    </tr>\n",
       "    <tr>\n",
       "      <th>8</th>\n",
       "      <td>2019.12.23</td>\n",
       "      <td>2203.71</td>\n",
       "      <td>0.47</td>\n",
       "      <td>-0.02%</td>\n",
       "      <td>502034.0</td>\n",
       "      <td>4734276.0</td>\n",
       "    </tr>\n",
       "    <tr>\n",
       "      <th>9</th>\n",
       "      <td>2019.12.20</td>\n",
       "      <td>2204.18</td>\n",
       "      <td>7.62</td>\n",
       "      <td>+0.35%</td>\n",
       "      <td>646682.0</td>\n",
       "      <td>5020842.0</td>\n",
       "    </tr>\n",
       "    <tr>\n",
       "      <th>10</th>\n",
       "      <td>2019.12.19</td>\n",
       "      <td>2196.56</td>\n",
       "      <td>1.80</td>\n",
       "      <td>+0.08%</td>\n",
       "      <td>643143.0</td>\n",
       "      <td>5262211.0</td>\n",
       "    </tr>\n",
       "    <tr>\n",
       "      <th>11</th>\n",
       "      <td>NaN</td>\n",
       "      <td>NaN</td>\n",
       "      <td>NaN</td>\n",
       "      <td>NaN</td>\n",
       "      <td>NaN</td>\n",
       "      <td>NaN</td>\n",
       "    </tr>\n",
       "    <tr>\n",
       "      <th>12</th>\n",
       "      <td>NaN</td>\n",
       "      <td>NaN</td>\n",
       "      <td>NaN</td>\n",
       "      <td>NaN</td>\n",
       "      <td>NaN</td>\n",
       "      <td>NaN</td>\n",
       "    </tr>\n",
       "  </tbody>\n",
       "</table>\n",
       "</div>"
      ],
      "text/plain": [
       "            날짜      체결가    전일비     등락률   거래량(천주)   거래대금(백만)\n",
       "0          NaN      NaN    NaN     NaN       NaN        NaN\n",
       "1   2019.12.27  2204.21   6.28  +0.29%  490167.0  5429665.0\n",
       "2   2019.12.26  2197.93   7.85  +0.36%  571309.0  4795109.0\n",
       "3   2019.12.24  2190.08  13.63  -0.62%  569967.0  4756454.0\n",
       "4          NaN      NaN    NaN     NaN       NaN        NaN\n",
       "5          NaN      NaN    NaN     NaN       NaN        NaN\n",
       "6          NaN      NaN    NaN     NaN       NaN        NaN\n",
       "7          NaN      NaN    NaN     NaN       NaN        NaN\n",
       "8   2019.12.23  2203.71   0.47  -0.02%  502034.0  4734276.0\n",
       "9   2019.12.20  2204.18   7.62  +0.35%  646682.0  5020842.0\n",
       "10  2019.12.19  2196.56   1.80  +0.08%  643143.0  5262211.0\n",
       "11         NaN      NaN    NaN     NaN       NaN        NaN\n",
       "12         NaN      NaN    NaN     NaN       NaN        NaN"
      ]
     },
     "execution_count": 22,
     "metadata": {},
     "output_type": "execute_result"
    }
   ],
   "source": [
    "# 웹페이지 상의 table형태 데이터를 읽어 dataframe 형식으로 저장\n",
    "# 크롬 예) F12누르고 네트워크 탭 선택 , 로그 유지 체크\n",
    "# html 혹은 document로 되어있는 정보 확인할 수 있\n",
    "# 확인된 document를 우클릭해서 주소 복사\n",
    "\n",
    "import pandas as pd\n",
    "\n",
    "url = \"https://finance.naver.com/sise/sise_index_day.nhn?code=KOSPI&page=1\"\n",
    "pd_result = pd.read_html(url)\n",
    "pd_result[0]"
   ]
  },
  {
   "cell_type": "code",
   "execution_count": 23,
   "metadata": {},
   "outputs": [
    {
     "data": {
      "text/html": [
       "<div>\n",
       "<style scoped>\n",
       "    .dataframe tbody tr th:only-of-type {\n",
       "        vertical-align: middle;\n",
       "    }\n",
       "\n",
       "    .dataframe tbody tr th {\n",
       "        vertical-align: top;\n",
       "    }\n",
       "\n",
       "    .dataframe thead th {\n",
       "        text-align: right;\n",
       "    }\n",
       "</style>\n",
       "<table border=\"1\" class=\"dataframe\">\n",
       "  <thead>\n",
       "    <tr style=\"text-align: right;\">\n",
       "      <th></th>\n",
       "      <th>날짜</th>\n",
       "      <th>체결가</th>\n",
       "      <th>전일비</th>\n",
       "      <th>등락률</th>\n",
       "      <th>거래량(천주)</th>\n",
       "      <th>거래대금(백만)</th>\n",
       "    </tr>\n",
       "  </thead>\n",
       "  <tbody>\n",
       "    <tr>\n",
       "      <th>1</th>\n",
       "      <td>2019.12.27</td>\n",
       "      <td>2204.21</td>\n",
       "      <td>6.28</td>\n",
       "      <td>+0.29%</td>\n",
       "      <td>490167.0</td>\n",
       "      <td>5429665.0</td>\n",
       "    </tr>\n",
       "    <tr>\n",
       "      <th>2</th>\n",
       "      <td>2019.12.26</td>\n",
       "      <td>2197.93</td>\n",
       "      <td>7.85</td>\n",
       "      <td>+0.36%</td>\n",
       "      <td>571309.0</td>\n",
       "      <td>4795109.0</td>\n",
       "    </tr>\n",
       "    <tr>\n",
       "      <th>3</th>\n",
       "      <td>2019.12.24</td>\n",
       "      <td>2190.08</td>\n",
       "      <td>13.63</td>\n",
       "      <td>-0.62%</td>\n",
       "      <td>569967.0</td>\n",
       "      <td>4756454.0</td>\n",
       "    </tr>\n",
       "    <tr>\n",
       "      <th>8</th>\n",
       "      <td>2019.12.23</td>\n",
       "      <td>2203.71</td>\n",
       "      <td>0.47</td>\n",
       "      <td>-0.02%</td>\n",
       "      <td>502034.0</td>\n",
       "      <td>4734276.0</td>\n",
       "    </tr>\n",
       "    <tr>\n",
       "      <th>9</th>\n",
       "      <td>2019.12.20</td>\n",
       "      <td>2204.18</td>\n",
       "      <td>7.62</td>\n",
       "      <td>+0.35%</td>\n",
       "      <td>646682.0</td>\n",
       "      <td>5020842.0</td>\n",
       "    </tr>\n",
       "    <tr>\n",
       "      <th>10</th>\n",
       "      <td>2019.12.19</td>\n",
       "      <td>2196.56</td>\n",
       "      <td>1.80</td>\n",
       "      <td>+0.08%</td>\n",
       "      <td>643143.0</td>\n",
       "      <td>5262211.0</td>\n",
       "    </tr>\n",
       "  </tbody>\n",
       "</table>\n",
       "</div>"
      ],
      "text/plain": [
       "            날짜      체결가    전일비     등락률   거래량(천주)   거래대금(백만)\n",
       "1   2019.12.27  2204.21   6.28  +0.29%  490167.0  5429665.0\n",
       "2   2019.12.26  2197.93   7.85  +0.36%  571309.0  4795109.0\n",
       "3   2019.12.24  2190.08  13.63  -0.62%  569967.0  4756454.0\n",
       "8   2019.12.23  2203.71   0.47  -0.02%  502034.0  4734276.0\n",
       "9   2019.12.20  2204.18   7.62  +0.35%  646682.0  5020842.0\n",
       "10  2019.12.19  2196.56   1.80  +0.08%  643143.0  5262211.0"
      ]
     },
     "execution_count": 23,
     "metadata": {},
     "output_type": "execute_result"
    }
   ],
   "source": [
    "#%% 뽑은 데이터에서 결측치 제거해보자\n",
    "pd_result[0].dropna()"
   ]
  },
  {
   "cell_type": "markdown",
   "metadata": {},
   "source": [
    "# 파이썬으로 사이트 인증하여 로그인하기"
   ]
  },
  {
   "cell_type": "code",
   "execution_count": null,
   "metadata": {},
   "outputs": [],
   "source": [
    "import requests\n",
    "\n",
    "# 로그인 정보를 dict 형태로 전달합니다\n",
    "payload = dict(\n",
    "        user_id='ta6464',\n",
    "        password='ta6464'\n",
    ")\n",
    "\n",
    "header = {\n",
    "        'Referer' : 'https://www.ppomppu.co.kr/zboard/login.php',\n",
    "        'User-Agent' : 'Mozilla/5.0 (Windows NT 10.0; Win64; x64; rv:66.0) Gecko/2010101 Firefox/66.0'\n",
    "}\n",
    "\n",
    "URL = 'https://www.ppomppu.co.kr/zboard/login_check.php?/'\n",
    "\n",
    "# with 구문으로 context를 실행\n",
    "# with 구문이 종료가 되면 자동으로 세션도 종료가 됨\n",
    "\n",
    "with requests.Session() as s:\n",
    "    rt = s.post(URL, data = payload, headers = header)\n",
    "    \n",
    "    r = s.get('http://www.ppomppu.co.kr/zboard/zboard.php?id=market', headers = header)\n",
    "    \n",
    "    # 접속 정보 출력\n",
    "    print(r.text)"
   ]
  },
  {
   "cell_type": "markdown",
   "metadata": {},
   "source": [
    "# Pandas Data Frame"
   ]
  },
  {
   "cell_type": "code",
   "execution_count": 24,
   "metadata": {},
   "outputs": [
    {
     "data": {
      "text/html": [
       "<div>\n",
       "<style scoped>\n",
       "    .dataframe tbody tr th:only-of-type {\n",
       "        vertical-align: middle;\n",
       "    }\n",
       "\n",
       "    .dataframe tbody tr th {\n",
       "        vertical-align: top;\n",
       "    }\n",
       "\n",
       "    .dataframe thead th {\n",
       "        text-align: right;\n",
       "    }\n",
       "</style>\n",
       "<table border=\"1\" class=\"dataframe\">\n",
       "  <thead>\n",
       "    <tr style=\"text-align: right;\">\n",
       "      <th></th>\n",
       "      <th>날짜</th>\n",
       "      <th>종목</th>\n",
       "      <th>시가</th>\n",
       "      <th>종가</th>\n",
       "    </tr>\n",
       "  </thead>\n",
       "  <tbody>\n",
       "    <tr>\n",
       "      <th>0</th>\n",
       "      <td>2019-05-07</td>\n",
       "      <td>삼성전자</td>\n",
       "      <td>45,250</td>\n",
       "      <td>44,850</td>\n",
       "    </tr>\n",
       "    <tr>\n",
       "      <th>1</th>\n",
       "      <td>2019-05-07</td>\n",
       "      <td>LG전자</td>\n",
       "      <td>75,200</td>\n",
       "      <td>77,000</td>\n",
       "    </tr>\n",
       "    <tr>\n",
       "      <th>2</th>\n",
       "      <td>2019-05-07</td>\n",
       "      <td>SK텔레콤</td>\n",
       "      <td>254,500</td>\n",
       "      <td>NaN</td>\n",
       "    </tr>\n",
       "    <tr>\n",
       "      <th>3</th>\n",
       "      <td>2019-05-07</td>\n",
       "      <td>SK하이닉스</td>\n",
       "      <td>79,200</td>\n",
       "      <td>79,900</td>\n",
       "    </tr>\n",
       "  </tbody>\n",
       "</table>\n",
       "</div>"
      ],
      "text/plain": [
       "           날짜      종목       시가      종가\n",
       "0  2019-05-07    삼성전자   45,250  44,850\n",
       "1  2019-05-07    LG전자   75,200  77,000\n",
       "2  2019-05-07   SK텔레콤  254,500     NaN\n",
       "3  2019-05-07  SK하이닉스   79,200  79,900"
      ]
     },
     "execution_count": 24,
     "metadata": {},
     "output_type": "execute_result"
    }
   ],
   "source": [
    "#%% Pandas Data Frame\n",
    "\n",
    "stock_dict = [{'날짜':'2019-05-07',\n",
    "               '종목':'삼성전자',\n",
    "               '시가':'45,250',\n",
    "               '종가':'44,850'},\n",
    "              {'날짜':'2019-05-07',\n",
    "               '종목':'LG전자',\n",
    "               '시가':'75,200',\n",
    "               '종가':'77,000'},\n",
    "              {'날짜':'2019-05-07',\n",
    "               '종목':'SK텔레콤',\n",
    "               '시가':'254,500'},\n",
    "              {'날짜':'2019-05-07',\n",
    "               '종목':'SK하이닉스',\n",
    "               '시가':'79,200',\n",
    "               '종가':'79,900'}]\n",
    "data = pd.DataFrame(stock_dict, columns = ['날짜','종목','시가','종가'])\n",
    "data"
   ]
  },
  {
   "cell_type": "code",
   "execution_count": 25,
   "metadata": {},
   "outputs": [
    {
     "name": "stdout",
     "output_type": "stream",
     "text": [
      "<class 'pandas.core.frame.DataFrame'>\n",
      "RangeIndex: 4 entries, 0 to 3\n",
      "Data columns (total 4 columns):\n",
      "날짜    4 non-null object\n",
      "종목    4 non-null object\n",
      "시가    4 non-null object\n",
      "종가    3 non-null object\n",
      "dtypes: object(4)\n",
      "memory usage: 208.0+ bytes\n"
     ]
    }
   ],
   "source": [
    "data.info()"
   ]
  },
  {
   "cell_type": "code",
   "execution_count": 26,
   "metadata": {},
   "outputs": [
    {
     "data": {
      "text/html": [
       "<div>\n",
       "<style scoped>\n",
       "    .dataframe tbody tr th:only-of-type {\n",
       "        vertical-align: middle;\n",
       "    }\n",
       "\n",
       "    .dataframe tbody tr th {\n",
       "        vertical-align: top;\n",
       "    }\n",
       "\n",
       "    .dataframe thead th {\n",
       "        text-align: right;\n",
       "    }\n",
       "</style>\n",
       "<table border=\"1\" class=\"dataframe\">\n",
       "  <thead>\n",
       "    <tr style=\"text-align: right;\">\n",
       "      <th></th>\n",
       "      <th>날짜</th>\n",
       "      <th>종목</th>\n",
       "      <th>시가</th>\n",
       "      <th>종가</th>\n",
       "    </tr>\n",
       "  </thead>\n",
       "  <tbody>\n",
       "    <tr>\n",
       "      <th>0</th>\n",
       "      <td>2019-05-07</td>\n",
       "      <td>삼성전자</td>\n",
       "      <td>45,250</td>\n",
       "      <td>44,850</td>\n",
       "    </tr>\n",
       "    <tr>\n",
       "      <th>1</th>\n",
       "      <td>2019-05-07</td>\n",
       "      <td>LG전자</td>\n",
       "      <td>75,200</td>\n",
       "      <td>77,000</td>\n",
       "    </tr>\n",
       "    <tr>\n",
       "      <th>3</th>\n",
       "      <td>2019-05-07</td>\n",
       "      <td>SK하이닉스</td>\n",
       "      <td>79,200</td>\n",
       "      <td>79,900</td>\n",
       "    </tr>\n",
       "  </tbody>\n",
       "</table>\n",
       "</div>"
      ],
      "text/plain": [
       "           날짜      종목      시가      종가\n",
       "0  2019-05-07    삼성전자  45,250  44,850\n",
       "1  2019-05-07    LG전자  75,200  77,000\n",
       "3  2019-05-07  SK하이닉스  79,200  79,900"
      ]
     },
     "execution_count": 26,
     "metadata": {},
     "output_type": "execute_result"
    }
   ],
   "source": [
    "#%% 데이터프레임 결측치 처리\n",
    "data.dropna() # 결측치 행 제외"
   ]
  },
  {
   "cell_type": "code",
   "execution_count": 27,
   "metadata": {},
   "outputs": [
    {
     "data": {
      "text/html": [
       "<div>\n",
       "<style scoped>\n",
       "    .dataframe tbody tr th:only-of-type {\n",
       "        vertical-align: middle;\n",
       "    }\n",
       "\n",
       "    .dataframe tbody tr th {\n",
       "        vertical-align: top;\n",
       "    }\n",
       "\n",
       "    .dataframe thead th {\n",
       "        text-align: right;\n",
       "    }\n",
       "</style>\n",
       "<table border=\"1\" class=\"dataframe\">\n",
       "  <thead>\n",
       "    <tr style=\"text-align: right;\">\n",
       "      <th></th>\n",
       "      <th>날짜</th>\n",
       "      <th>종목</th>\n",
       "      <th>시가</th>\n",
       "      <th>종가</th>\n",
       "    </tr>\n",
       "  </thead>\n",
       "  <tbody>\n",
       "    <tr>\n",
       "      <th>0</th>\n",
       "      <td>2019-05-07</td>\n",
       "      <td>삼성전자</td>\n",
       "      <td>45,250</td>\n",
       "      <td>44,850</td>\n",
       "    </tr>\n",
       "    <tr>\n",
       "      <th>1</th>\n",
       "      <td>2019-05-07</td>\n",
       "      <td>LG전자</td>\n",
       "      <td>75,200</td>\n",
       "      <td>77,000</td>\n",
       "    </tr>\n",
       "    <tr>\n",
       "      <th>2</th>\n",
       "      <td>2019-05-07</td>\n",
       "      <td>SK텔레콤</td>\n",
       "      <td>254,500</td>\n",
       "      <td>0</td>\n",
       "    </tr>\n",
       "    <tr>\n",
       "      <th>3</th>\n",
       "      <td>2019-05-07</td>\n",
       "      <td>SK하이닉스</td>\n",
       "      <td>79,200</td>\n",
       "      <td>79,900</td>\n",
       "    </tr>\n",
       "  </tbody>\n",
       "</table>\n",
       "</div>"
      ],
      "text/plain": [
       "           날짜      종목       시가      종가\n",
       "0  2019-05-07    삼성전자   45,250  44,850\n",
       "1  2019-05-07    LG전자   75,200  77,000\n",
       "2  2019-05-07   SK텔레콤  254,500       0\n",
       "3  2019-05-07  SK하이닉스   79,200  79,900"
      ]
     },
     "execution_count": 27,
     "metadata": {},
     "output_type": "execute_result"
    }
   ],
   "source": [
    "data.fillna(0) # 결측치 대체"
   ]
  },
  {
   "cell_type": "code",
   "execution_count": 28,
   "metadata": {},
   "outputs": [
    {
     "data": {
      "text/html": [
       "<div>\n",
       "<style scoped>\n",
       "    .dataframe tbody tr th:only-of-type {\n",
       "        vertical-align: middle;\n",
       "    }\n",
       "\n",
       "    .dataframe tbody tr th {\n",
       "        vertical-align: top;\n",
       "    }\n",
       "\n",
       "    .dataframe thead th {\n",
       "        text-align: right;\n",
       "    }\n",
       "</style>\n",
       "<table border=\"1\" class=\"dataframe\">\n",
       "  <thead>\n",
       "    <tr style=\"text-align: right;\">\n",
       "      <th></th>\n",
       "      <th>날짜</th>\n",
       "      <th>종목</th>\n",
       "      <th>시가</th>\n",
       "      <th>종가</th>\n",
       "    </tr>\n",
       "  </thead>\n",
       "  <tbody>\n",
       "    <tr>\n",
       "      <th>0</th>\n",
       "      <td>2019-05-07</td>\n",
       "      <td>삼성전자</td>\n",
       "      <td>45,250</td>\n",
       "      <td>44,850</td>\n",
       "    </tr>\n",
       "    <tr>\n",
       "      <th>1</th>\n",
       "      <td>2019-05-07</td>\n",
       "      <td>LG전자</td>\n",
       "      <td>75,200</td>\n",
       "      <td>77,000</td>\n",
       "    </tr>\n",
       "    <tr>\n",
       "      <th>2</th>\n",
       "      <td>2019-05-07</td>\n",
       "      <td>SK텔레콤</td>\n",
       "      <td>254,500</td>\n",
       "      <td>77,000</td>\n",
       "    </tr>\n",
       "    <tr>\n",
       "      <th>3</th>\n",
       "      <td>2019-05-07</td>\n",
       "      <td>SK하이닉스</td>\n",
       "      <td>79,200</td>\n",
       "      <td>79,900</td>\n",
       "    </tr>\n",
       "  </tbody>\n",
       "</table>\n",
       "</div>"
      ],
      "text/plain": [
       "           날짜      종목       시가      종가\n",
       "0  2019-05-07    삼성전자   45,250  44,850\n",
       "1  2019-05-07    LG전자   75,200  77,000\n",
       "2  2019-05-07   SK텔레콤  254,500  77,000\n",
       "3  2019-05-07  SK하이닉스   79,200  79,900"
      ]
     },
     "execution_count": 28,
     "metadata": {},
     "output_type": "execute_result"
    }
   ],
   "source": [
    "#%% 이건 시계열에서 주로 쓰임\n",
    "data.fillna(method='ffill') #전위 값으로 대체"
   ]
  },
  {
   "cell_type": "code",
   "execution_count": 29,
   "metadata": {},
   "outputs": [
    {
     "data": {
      "text/html": [
       "<div>\n",
       "<style scoped>\n",
       "    .dataframe tbody tr th:only-of-type {\n",
       "        vertical-align: middle;\n",
       "    }\n",
       "\n",
       "    .dataframe tbody tr th {\n",
       "        vertical-align: top;\n",
       "    }\n",
       "\n",
       "    .dataframe thead th {\n",
       "        text-align: right;\n",
       "    }\n",
       "</style>\n",
       "<table border=\"1\" class=\"dataframe\">\n",
       "  <thead>\n",
       "    <tr style=\"text-align: right;\">\n",
       "      <th></th>\n",
       "      <th>날짜</th>\n",
       "      <th>종목</th>\n",
       "      <th>시가</th>\n",
       "      <th>종가</th>\n",
       "    </tr>\n",
       "  </thead>\n",
       "  <tbody>\n",
       "    <tr>\n",
       "      <th>0</th>\n",
       "      <td>2019-05-07</td>\n",
       "      <td>삼성전자</td>\n",
       "      <td>45,250</td>\n",
       "      <td>44,850</td>\n",
       "    </tr>\n",
       "    <tr>\n",
       "      <th>1</th>\n",
       "      <td>2019-05-07</td>\n",
       "      <td>LG전자</td>\n",
       "      <td>75,200</td>\n",
       "      <td>77,000</td>\n",
       "    </tr>\n",
       "    <tr>\n",
       "      <th>2</th>\n",
       "      <td>2019-05-07</td>\n",
       "      <td>SK텔레콤</td>\n",
       "      <td>254,500</td>\n",
       "      <td>79,900</td>\n",
       "    </tr>\n",
       "    <tr>\n",
       "      <th>3</th>\n",
       "      <td>2019-05-07</td>\n",
       "      <td>SK하이닉스</td>\n",
       "      <td>79,200</td>\n",
       "      <td>79,900</td>\n",
       "    </tr>\n",
       "  </tbody>\n",
       "</table>\n",
       "</div>"
      ],
      "text/plain": [
       "           날짜      종목       시가      종가\n",
       "0  2019-05-07    삼성전자   45,250  44,850\n",
       "1  2019-05-07    LG전자   75,200  77,000\n",
       "2  2019-05-07   SK텔레콤  254,500  79,900\n",
       "3  2019-05-07  SK하이닉스   79,200  79,900"
      ]
     },
     "execution_count": 29,
     "metadata": {},
     "output_type": "execute_result"
    }
   ],
   "source": [
    "#%%\n",
    "data.fillna(method='bfill') #후위 값으로 대체"
   ]
  },
  {
   "cell_type": "code",
   "execution_count": 30,
   "metadata": {},
   "outputs": [
    {
     "data": {
      "text/html": [
       "<div>\n",
       "<style scoped>\n",
       "    .dataframe tbody tr th:only-of-type {\n",
       "        vertical-align: middle;\n",
       "    }\n",
       "\n",
       "    .dataframe tbody tr th {\n",
       "        vertical-align: top;\n",
       "    }\n",
       "\n",
       "    .dataframe thead th {\n",
       "        text-align: right;\n",
       "    }\n",
       "</style>\n",
       "<table border=\"1\" class=\"dataframe\">\n",
       "  <thead>\n",
       "    <tr style=\"text-align: right;\">\n",
       "      <th></th>\n",
       "      <th>날짜</th>\n",
       "      <th>종목</th>\n",
       "      <th>시가</th>\n",
       "      <th>종가</th>\n",
       "    </tr>\n",
       "  </thead>\n",
       "  <tbody>\n",
       "    <tr>\n",
       "      <th>0</th>\n",
       "      <td>2019-05-07</td>\n",
       "      <td>삼성전자</td>\n",
       "      <td>45,250</td>\n",
       "      <td>44,850</td>\n",
       "    </tr>\n",
       "    <tr>\n",
       "      <th>1</th>\n",
       "      <td>2019-05-07</td>\n",
       "      <td>LG전자</td>\n",
       "      <td>75,200</td>\n",
       "      <td>77,000</td>\n",
       "    </tr>\n",
       "    <tr>\n",
       "      <th>3</th>\n",
       "      <td>2019-05-07</td>\n",
       "      <td>SK하이닉스</td>\n",
       "      <td>79,200</td>\n",
       "      <td>79,900</td>\n",
       "    </tr>\n",
       "  </tbody>\n",
       "</table>\n",
       "</div>"
      ],
      "text/plain": [
       "           날짜      종목      시가      종가\n",
       "0  2019-05-07    삼성전자  45,250  44,850\n",
       "1  2019-05-07    LG전자  75,200  77,000\n",
       "3  2019-05-07  SK하이닉스  79,200  79,900"
      ]
     },
     "execution_count": 30,
     "metadata": {},
     "output_type": "execute_result"
    }
   ],
   "source": [
    "#%%\n",
    "# apply 특정함수를 특정 데이터 컬럼에 적용..\n",
    "\n",
    "data2 = data.copy()\n",
    "# 카피함수 없이 주면 복사가 아니라 참조가 된다...\n",
    "# 그러니 하나 더 만드려면 카피함수 써서 '깊은복사'를.\n",
    "\n",
    "data2.dropna(inplace=True)\n",
    "data2\n",
    "# dropna해도 데이터 셋에 적용 안됨 그때뿐임 ㅋ\n",
    "# 그래서 inplace = True하면 실제로 데이터셋에 반영됨"
   ]
  },
  {
   "cell_type": "code",
   "execution_count": 31,
   "metadata": {},
   "outputs": [
    {
     "data": {
      "text/plain": [
       "0    45250\n",
       "1    75200\n",
       "3    79200\n",
       "Name: 시가, dtype: int64"
      ]
     },
     "execution_count": 31,
     "metadata": {},
     "output_type": "execute_result"
    }
   ],
   "source": [
    "#%% 시가 컬럼 내부의 문자열을 조회하여 콜론을 없애고 정수화 하는 작업\n",
    "data2['시가'].apply(lambda x : int(x.replace(\",\",\"\")))\n",
    "# 하지만 data2 자체가 변한게 없다"
   ]
  },
  {
   "cell_type": "code",
   "execution_count": 32,
   "metadata": {},
   "outputs": [
    {
     "name": "stdout",
     "output_type": "stream",
     "text": [
      "<class 'pandas.core.frame.DataFrame'>\n",
      "Int64Index: 3 entries, 0 to 3\n",
      "Data columns (total 4 columns):\n",
      "날짜    3 non-null object\n",
      "종목    3 non-null object\n",
      "시가    3 non-null int64\n",
      "종가    3 non-null object\n",
      "dtypes: int64(1), object(3)\n",
      "memory usage: 120.0+ bytes\n"
     ]
    }
   ],
   "source": [
    "#%%\n",
    "data2['시가'] = data2['시가'].apply(lambda x: int(x.replace(\",\",\"\")))  # 시가 컬럼내용 콜론없애기\n",
    "data2.info()\n",
    "\n",
    "#info로 확인하면 시가의 data type이 int64로 바뀐걸 알수있음"
   ]
  },
  {
   "cell_type": "code",
   "execution_count": 33,
   "metadata": {},
   "outputs": [
    {
     "name": "stdout",
     "output_type": "stream",
     "text": [
      "<class 'pandas.core.frame.DataFrame'>\n",
      "Int64Index: 3 entries, 0 to 3\n",
      "Data columns (total 4 columns):\n",
      "날짜    3 non-null object\n",
      "종목    3 non-null object\n",
      "시가    3 non-null int64\n",
      "종가    3 non-null int64\n",
      "dtypes: int64(2), object(2)\n",
      "memory usage: 120.0+ bytes\n"
     ]
    }
   ],
   "source": [
    "#%% 여러 컬럼의 콜론 없애기\n",
    "data3 = data.copy()\n",
    "data3.dropna(inplace=True)\n",
    "data3[['시가','종가']] = data3[['시가','종가']].applymap(lambda x : int(x.replace(\",\",\"\")))\n",
    "data3.info()\n",
    "# applymap : apply 여러개 적용시키고플떄.."
   ]
  },
  {
   "cell_type": "code",
   "execution_count": 34,
   "metadata": {},
   "outputs": [
    {
     "name": "stdout",
     "output_type": "stream",
     "text": [
      "<class 'pandas.core.frame.DataFrame'>\n",
      "Int64Index: 3 entries, 0 to 3\n",
      "Data columns (total 4 columns):\n",
      "날짜    3 non-null datetime64[ns]\n",
      "종목    3 non-null object\n",
      "시가    3 non-null int64\n",
      "종가    3 non-null int64\n",
      "dtypes: datetime64[ns](1), int64(2), object(1)\n",
      "memory usage: 120.0+ bytes\n"
     ]
    }
   ],
   "source": [
    "#%% 날짜데이터 변환\n",
    "\n",
    "# astype() : 형변환\n",
    "# to_datetime() : 문자열->날짜객체로..\n",
    "\n",
    "data3['날짜'] = pd.to_datetime( data3['날짜'], format='%Y-%m-%d %H:%M:%S')\n",
    "\n",
    "data3.info()"
   ]
  },
  {
   "cell_type": "code",
   "execution_count": 35,
   "metadata": {},
   "outputs": [
    {
     "name": "stdout",
     "output_type": "stream",
     "text": [
      "<class 'pandas.core.frame.DataFrame'>\n",
      "Int64Index: 3 entries, 0 to 3\n",
      "Data columns (total 4 columns):\n",
      "날짜    3 non-null datetime64[ns]\n",
      "종목    3 non-null object\n",
      "시가    3 non-null int64\n",
      "종가    3 non-null int32\n",
      "dtypes: datetime64[ns](1), int32(1), int64(1), object(1)\n",
      "memory usage: 108.0+ bytes\n"
     ]
    }
   ],
   "source": [
    "#%% 32비트 int로 변경하기\n",
    "data3['종가'] = data3['종가'].astype('int32')\n",
    "data3.info()"
   ]
  },
  {
   "cell_type": "markdown",
   "metadata": {},
   "source": [
    "# CSV 파일"
   ]
  },
  {
   "cell_type": "code",
   "execution_count": 39,
   "metadata": {},
   "outputs": [],
   "source": [
    "# 크롤링 결과를 csv 파일로 저장하는 법 2방법\n",
    "# 1 : 단순하게 open() 을 사용하여 ,로 구분자 넣고 텍스트파일에 저장\n",
    "# 2 : pandas의 dataframe 형식으로 변환하여 to_csv 메소드 사용\n",
    "\n",
    "# get 방식에 사용될 url 주소\n",
    "url = 'http://finance.daum.net/api/market_index/days?page=1&perPage=10&market=KOSPI&pagination=true'\n",
    "\n",
    "# 헤더 정보 설정 수정\n",
    "\n",
    "header = {'Accept' : 'application/json, text/javascript, */*; q=0.01',\n",
    "         'Referer' : 'http://finance.daum.net/domestic/kospi',\n",
    "         'User-Agent' : 'Mozilla/5.0 (Windows NT 10.0; Win64; x64) AppleWebKit/537.36 (KHTML, like Gecko) Chrome/79.0.3945.88 Safari/537.36',\n",
    "         'X-Requested-With' : 'XMLHttpRequest'}\n",
    "\n",
    "r = requests.get(url,headers = header)"
   ]
  },
  {
   "cell_type": "code",
   "execution_count": 41,
   "metadata": {},
   "outputs": [
    {
     "name": "stdout",
     "output_type": "stream",
     "text": [
      "dict_keys(['data', 'totalPages', 'currentPage', 'pageSize'])\n",
      "[{'date': '2019-12-27 00:00:00', 'tradePrice': 2204.21, 'change': 'RISE', 'changePrice': 6.28, 'accTradeVolume': 490167, 'accTradePrice': 5429665, 'individualStraightPurchasePrice': 192509617780, 'foreignStraightPurchasePrice': 64174016528, 'institutionStraightPurchasePrice': -279035235598}, {'date': '2019-12-26 00:00:00', 'tradePrice': 2197.93, 'change': 'RISE', 'changePrice': 7.85, 'accTradeVolume': 571309, 'accTradePrice': 4795109, 'individualStraightPurchasePrice': -467323867609, 'foreignStraightPurchasePrice': -40140907947, 'institutionStraightPurchasePrice': 460475860338}, {'date': '2019-12-24 00:00:00', 'tradePrice': 2190.08, 'change': 'FALL', 'changePrice': 13.63, 'accTradeVolume': 569967, 'accTradePrice': 4756454, 'individualStraightPurchasePrice': -108132106245, 'foreignStraightPurchasePrice': -166986286315, 'institutionStraightPurchasePrice': 258380732062}, {'date': '2019-12-23 00:00:00', 'tradePrice': 2203.71, 'change': 'FALL', 'changePrice': 0.47, 'accTradeVolume': 502034, 'accTradePrice': 4734276, 'individualStraightPurchasePrice': -321881133688, 'foreignStraightPurchasePrice': -48941342493, 'institutionStraightPurchasePrice': 354513842375}, {'date': '2019-12-20 00:00:00', 'tradePrice': 2204.18, 'change': 'RISE', 'changePrice': 7.62, 'accTradeVolume': 646682, 'accTradePrice': 5020842, 'individualStraightPurchasePrice': -322100984363, 'foreignStraightPurchasePrice': 155795011754, 'institutionStraightPurchasePrice': 138946531255}, {'date': '2019-12-19 00:00:00', 'tradePrice': 2196.56, 'change': 'RISE', 'changePrice': 1.8, 'accTradeVolume': 643143, 'accTradePrice': 5262211, 'individualStraightPurchasePrice': -163966770006, 'foreignStraightPurchasePrice': 249140767820, 'institutionStraightPurchasePrice': -108299101250}, {'date': '2019-12-18 00:00:00', 'tradePrice': 2194.76, 'change': 'FALL', 'changePrice': 0.92, 'accTradeVolume': 591106, 'accTradePrice': 5519070, 'individualStraightPurchasePrice': -55997786452, 'foreignStraightPurchasePrice': 383323629368, 'institutionStraightPurchasePrice': -335847364879}, {'date': '2019-12-17 00:00:00', 'tradePrice': 2195.68, 'change': 'RISE', 'changePrice': 27.53, 'accTradeVolume': 599534, 'accTradePrice': 6380891, 'individualStraightPurchasePrice': -529187713228, 'foreignStraightPurchasePrice': 513414323996, 'institutionStraightPurchasePrice': 11604645050}, {'date': '2019-12-16 00:00:00', 'tradePrice': 2168.15, 'change': 'FALL', 'changePrice': 2.1, 'accTradeVolume': 377053, 'accTradePrice': 4561208, 'individualStraightPurchasePrice': -214873317383, 'foreignStraightPurchasePrice': -191411993552, 'institutionStraightPurchasePrice': 378053168610}, {'date': '2019-12-13 00:00:00', 'tradePrice': 2170.25, 'change': 'RISE', 'changePrice': 32.9, 'accTradeVolume': 540027, 'accTradePrice': 6253215, 'individualStraightPurchasePrice': -989159288330, 'foreignStraightPurchasePrice': 513911365518, 'institutionStraightPurchasePrice': 479693826189}]\n"
     ]
    }
   ],
   "source": [
    "import json\n",
    "# loads 함수를 이용하여 문자열 객체를 dict 로 변환\n",
    "json_r = json.loads(r.text)\n",
    "# dict의 keys값을 출력\n",
    "print(json_r.keys())\n",
    "print(json_r['data'])\n"
   ]
  },
  {
   "cell_type": "code",
   "execution_count": 45,
   "metadata": {
    "scrolled": true
   },
   "outputs": [
    {
     "name": "stdout",
     "output_type": "stream",
     "text": [
      "2019-12-27 00:00:00,2204.21,RISE,6.28,490167,5429665,192509617780,64174016528,-279035235598\n",
      "2019-12-26 00:00:00,2197.93,RISE,7.85,571309,4795109,-467323867609,-40140907947,460475860338\n",
      "2019-12-24 00:00:00,2190.08,FALL,13.63,569967,4756454,-108132106245,-166986286315,258380732062\n",
      "2019-12-23 00:00:00,2203.71,FALL,0.47,502034,4734276,-321881133688,-48941342493,354513842375\n",
      "2019-12-20 00:00:00,2204.18,RISE,7.62,646682,5020842,-322100984363,155795011754,138946531255\n",
      "2019-12-19 00:00:00,2196.56,RISE,1.8,643143,5262211,-163966770006,249140767820,-108299101250\n",
      "2019-12-18 00:00:00,2194.76,FALL,0.92,591106,5519070,-55997786452,383323629368,-335847364879\n",
      "2019-12-17 00:00:00,2195.68,RISE,27.53,599534,6380891,-529187713228,513414323996,11604645050\n",
      "2019-12-16 00:00:00,2168.15,FALL,2.1,377053,4561208,-214873317383,-191411993552,378053168610\n",
      "2019-12-13 00:00:00,2170.25,RISE,32.9,540027,6253215,-989159288330,513911365518,479693826189\n"
     ]
    }
   ],
   "source": [
    "# 1번 방법\n",
    "\n",
    "for content in json_r['data']:\n",
    "    print(\",\".join([str(x) for x in list(content.values())]))"
   ]
  },
  {
   "cell_type": "code",
   "execution_count": 47,
   "metadata": {},
   "outputs": [],
   "source": [
    "with open(\"./daum_kospi.csv\", 'w', encoding = 'utf-8-sig') as f:\n",
    "    f.write(\",\".join(list(content.keys())) + \"\\n\")\n",
    "    for content in json_r['data']:\n",
    "        f.write(\",\".join( [ str(x) for x in list( content.values() ) ] ) + \"\\n\")"
   ]
  },
  {
   "cell_type": "code",
   "execution_count": null,
   "metadata": {},
   "outputs": [],
   "source": [
    "# 2번 방법 : 실질적으로는 이걸 많이 씀 왜? 편하니까\n",
    "import pandas as pd\n",
    "pd.DataFrame(json_r['data']).to_csv(\"./daum_kospi.csv\", index = False)# index 번호 매기기는 필요없으면 False해\n"
   ]
  },
  {
   "cell_type": "code",
   "execution_count": 54,
   "metadata": {},
   "outputs": [],
   "source": [
    "# 1번 방법 中 숫자에 컴마 들어간거 처리법\n",
    "\n",
    "url = \"https://finance.naver.com/marketindex/exchangeList.nhn\"\n",
    "\n",
    "r = requests.get(url)\n",
    "bs = BeautifulSoup(r.text , 'html.parser')\n",
    "\n",
    "with open(\"exchange_rate.csv\", \"w\", encoding='utf-8-sig') as f:\n",
    "    for idx, cont in enumerate(bs.findAll(\"tr\")):\n",
    "        if(idx>1):\n",
    "            bs2 = cont.findAll(\"td\")\n",
    "            for cont2 in bs2:\n",
    "                f.write(cont2.text.strip() + \",\") # strip은 양쪽 공백없애기\n",
    "            f.write(\"\\n\")"
   ]
  },
  {
   "cell_type": "code",
   "execution_count": 56,
   "metadata": {},
   "outputs": [],
   "source": [
    "# 이상하게 안들어가게 처리해주자\n",
    "# csv 모듈 사용하기\n",
    "\n",
    "import csv\n",
    "\n",
    "with open(\"exchange_rate_csv_module.csv\", \"w\", encoding='utf-8-sig', newline='') as f:\n",
    "    filewrite = csv.writer(f, delimiter=\",\")\n",
    "    for idx, cont in enumerate(bs.findAll(\"tr\")):\n",
    "        if(idx>1):\n",
    "            bs2 = cont.findAll(\"td\")\n",
    "            total_txt = list()\n",
    "            for cont2 in bs2:\n",
    "                total_txt.append(cont2.text.strip())\n",
    "            filewrite.writerow(total_txt)"
   ]
  },
  {
   "cell_type": "code",
   "execution_count": 57,
   "metadata": {},
   "outputs": [
    {
     "name": "stdout",
     "output_type": "stream",
     "text": [
      "['미국 USD', '1,160.50', '1,180.80', '1,140.20', '1,171.80', '1,149.20', '1.000']\n",
      "['유럽연합 EUR', '1,293.90', '1,319.64', '1,268.16', '1,306.83', '1,280.97', '1.115']\n",
      "['일본 JPY (100엔)', '1,060.06', '1,078.61', '1,041.51', '1,070.44', '1,049.68', '0.914']\n",
      "['중국 CNY', '165.93', '174.22', '157.64', '167.58', '164.28', '0.143']\n",
      "['홍콩 HKD', '149.04', '151.97', '146.11', '150.53', '147.55', '0.128']\n",
      "['대만 TWD', '38.52', '43.56', '35.83', '0.00', '0.00', '0.033']\n",
      "['영국 GBP', '1,516.66', '1,546.53', '1,486.79', '1,531.82', '1,501.50', '1.307']\n",
      "['오만 OMR', '3,018.21', '3,286.83', '2,837.12', '0.00', '0.00', '2.601']\n",
      "['캐나다 CAD', '886.52', '903.98', '869.06', '895.38', '877.66', '0.764']\n",
      "['스위스 CHF', '1,188.67', '1,212.08', '1,165.26', '1,200.55', '1,176.79', '1.024']\n",
      "['스웨덴 SEK', '123.85', '126.88', '120.82', '125.08', '122.62', '0.107']\n",
      "['호주 AUD', '808.69', '824.62', '792.76', '816.77', '800.61', '0.697']\n",
      "['뉴질랜드 NZD', '777.01', '792.31', '761.71', '784.78', '769.24', '0.670']\n",
      "['체코 CZK', '50.71', '55.02', '46.15', '51.26', '50.16', '0.044']\n",
      "['칠레 CLP', '1.56', '1.68', '1.44', '0.00', '0.00', '0.001']\n",
      "['터키 TRY', '194.90', '0.00', '0.00', '197.04', '192.76', '0.168']\n",
      "['몽골 MNT', '0.43', '0.00', '0.00', '0.00', '0.00', '0.000']\n",
      "['이스라엘 ILS', '334.67', '368.13', '307.90', '0.00', '0.00', '0.288']\n",
      "['덴마크 DKK', '173.27', '177.51', '169.03', '175.00', '171.54', '0.149']\n",
      "['노르웨이 NOK', '130.90', '134.10', '127.70', '132.20', '129.60', '0.113']\n",
      "['사우디아라비아 SAR', '309.30', '328.78', '287.96', '312.39', '306.21', '0.267']\n",
      "['쿠웨이트 KWD', '3,825.24', '4,073.88', '3,519.23', '3,863.49', '3,786.99', '3.296']\n",
      "['바레인 BHD', '3,077.92', '3,274.90', '2,831.69', '3,108.69', '3,047.15', '2.652']\n",
      "['아랍에미리트 AED', '315.94', '333.31', '294.15', '319.09', '312.79', '0.272']\n",
      "['요르단 JOD', '1,636.24', '1,781.86', '1,505.35', '0.00', '0.00', '1.410']\n",
      "['이집트 EGP', '72.36', '0.00', '0.00', '0.00', '0.00', '0.062']\n",
      "['태국 THB', '38.48', '40.40', '36.18', '38.86', '38.10', '0.033']\n",
      "['싱가포르 SGD', '858.04', '875.11', '840.97', '866.62', '849.46', '0.739']\n",
      "['말레이시아 MYR', '281.16', '298.87', '260.36', '0.00', '278.35', '0.242']\n",
      "['인도네시아 IDR 100', '8.34', '8.92', '7.51', '8.42', '8.26', '0.007']\n",
      "['카타르 QAR', '318.73', '0.00', '0.00', '0.00', '0.00', '0.275']\n",
      "['카자흐스탄 KZT', '3.05', '0.00', '0.00', '0.00', '0.00', '0.003']\n",
      "['브루나이 BND', '858.04', '892.36', '806.56', '0.00', '0.00', '0.739']\n",
      "['인도 INR', '16.26', '0.00', '0.00', '0.00', '0.00', '0.014']\n",
      "['파키스탄 PKR', '7.49', '0.00', '0.00', '0.00', '0.00', '0.007']\n",
      "['방글라데시 BDT', '13.66', '0.00', '0.00', '0.00', '0.00', '0.012']\n",
      "['필리핀 PHP', '22.88', '25.16', '21.01', '23.10', '22.66', '0.020']\n",
      "['멕시코 MXN', '61.35', '67.48', '56.20', '61.96', '60.74', '0.053']\n",
      "['브라질 BRL', '286.08', '315.26', '263.20', '0.00', '282.65', '0.247']\n",
      "['베트남 VND 100', '5.01', '5.60', '4.42', '5.06', '4.96', '0.004']\n",
      "['남아프리카 공화국 ZAR', '82.95', '87.92', '76.32', '83.94', '81.96', '0.072']\n",
      "['러시아 RUB', '18.73', '20.04', '16.67', '18.91', '18.55', '0.016']\n",
      "['헝가리 HUF', '3.91', '4.27', '3.60', '3.95', '3.87', '0.003']\n",
      "['폴란드 PLN', '303.09', '327.33', '278.85', '306.42', '299.76', '0.261']\n"
     ]
    }
   ],
   "source": [
    "# CSV 모듈을 사용하여 데이터 읽기\n",
    "\n",
    "with open(\"./exchange_rate_csv_module.csv\", \"r\", encoding = 'utf-8-sig') as f:\n",
    "    filereader = csv.reader(f, delimiter=',')\n",
    "    for content in filereader:\n",
    "        print(content)"
   ]
  },
  {
   "cell_type": "code",
   "execution_count": null,
   "metadata": {},
   "outputs": [],
   "source": [
    "# 파일을 엑셀에 저장하는 방법\n",
    "\n",
    "# xlwt : 95-2003버전 xls 쓰기 라이브러리\n",
    "# xlrd : 95-2003버전 xls 읽기 라이브러리\n",
    "# xlsxwriter : 2007이상버전 지원하는 엑셀 라이브러리\n",
    "# openpyxl : 2010 버전의 xlsx / xlsm / xltx / xltm 파일 라이브러리\n",
    "\n",
    "# xlsxwriter 사용법\n",
    "# Workbook() : 엑셀 파일 생성 함수\n",
    "# add_worksheet() : 새로운 sheet를 추가하는 함수\n",
    "# add_format() : 엑셀 서식을 설정하는 함수\n",
    "# write() : 엑셀에 데이터를 기록하는 함수"
   ]
  },
  {
   "cell_type": "code",
   "execution_count": 63,
   "metadata": {},
   "outputs": [
    {
     "ename": "NameError",
     "evalue": "name 'workbook' is not defined",
     "output_type": "error",
     "traceback": [
      "\u001b[1;31m---------------------------------------------------------------------------\u001b[0m",
      "\u001b[1;31mNameError\u001b[0m                                 Traceback (most recent call last)",
      "\u001b[1;32m<ipython-input-63-2ab26d6564a2>\u001b[0m in \u001b[0;36m<module>\u001b[1;34m\u001b[0m\n\u001b[0;32m      9\u001b[0m \u001b[1;33m\u001b[0m\u001b[0m\n\u001b[0;32m     10\u001b[0m \u001b[1;31m# Sheet 이름을 정한다\u001b[0m\u001b[1;33m\u001b[0m\u001b[1;33m\u001b[0m\u001b[1;33m\u001b[0m\u001b[0m\n\u001b[1;32m---> 11\u001b[1;33m \u001b[0mworksheet\u001b[0m \u001b[1;33m=\u001b[0m \u001b[0mworkbook\u001b[0m\u001b[1;33m.\u001b[0m\u001b[0madd_worksheet\u001b[0m\u001b[1;33m(\u001b[0m\u001b[1;34m'환율정보'\u001b[0m\u001b[1;33m)\u001b[0m\u001b[1;33m\u001b[0m\u001b[1;33m\u001b[0m\u001b[0m\n\u001b[0m\u001b[0;32m     12\u001b[0m \u001b[1;33m\u001b[0m\u001b[0m\n",
      "\u001b[1;31mNameError\u001b[0m: name 'workbook' is not defined"
     ]
    }
   ],
   "source": [
    "import os, csv, xlsxwriter\n",
    "\n",
    "total = []\n",
    "\n",
    "with open(\"./exchange_rate_csv_module.csv\", \"r\", encoding = \"utf-8-sig\") as f:\n",
    "    filereader = csv.reader(f,delimiter=',')\n",
    "    for content in filereader :\n",
    "        total.append(content)\n",
    "\n",
    "# Sheet 이름을 정한다        \n",
    "worksheet = workbook.add_worksheet('환율정보')\n",
    "\n",
    "# 컬럼의 넓이를 정할 수 있다\n",
    "worksheet.set_column('A:F', 20)\n",
    "\n",
    "# Cell의 스타일을 지정할 수 있다.\n",
    "bold = workbook.add_format({'bold' : True})\n",
    "\n",
    "for idx1, x1 in enumerate(total):\n",
    "    for idx2, x2 in enumerate(x1):\n",
    "        # write() 메소드는 실제 엑셀 파일에 기록하는 메소드이며,\n",
    "        # idx1, idx2번째 위치에 x2의 값을 bold 처리\n",
    "        worksheet.write(idx1, idx2, x2, bold)\n",
    "        \n",
    "# 파일을 닫는다\n",
    "workbook.close()"
   ]
  },
  {
   "cell_type": "code",
   "execution_count": null,
   "metadata": {},
   "outputs": [],
   "source": []
  },
  {
   "cell_type": "code",
   "execution_count": null,
   "metadata": {},
   "outputs": [],
   "source": [
    "#%%\n",
    "import os\n",
    "import sys\n",
    "import urllib.request\n",
    "client_id = \"YOUR_CLIENT_ID\"\n",
    "client_secret = \"YOUR_CLIENT_SECRET\"\n",
    "url = \"https://openapi.naver.com/v1/datalab/search\";\n",
    "body = \"{\\\"startDate\\\":\\\"2017-01-01\\\",\\\"endDate\\\":\\\"2017-04-30\\\",\\\"timeUnit\\\":\\\"month\\\",\\\"keywordGroups\\\":[{\\\"groupName\\\":\\\"한글\\\",\\\"keywords\\\":[\\\"한글\\\",\\\"korean\\\"]},{\\\"groupName\\\":\\\"영어\\\",\\\"keywords\\\":[\\\"영어\\\",\\\"english\\\"]}],\\\"device\\\":\\\"pc\\\",\\\"ages\\\":[\\\"1\\\",\\\"2\\\"],\\\"gender\\\":\\\"f\\\"}\";\n",
    "\n",
    "request = urllib.request.Request(url)\n",
    "request.add_header(\"X-Naver-Client-Id\",client_id)\n",
    "request.add_header(\"X-Naver-Client-Secret\",client_secret)\n",
    "request.add_header(\"Content-Type\",\"application/json\")\n",
    "response = urllib.request.urlopen(request, data=body.encode(\"utf-8\"))\n",
    "rescode = response.getcode()\n",
    "if(rescode==200):\n",
    "    response_body = response.read()\n",
    "    print(response_body.decode('utf-8'))\n",
    "else:\n",
    "    print(\"Error Code:\" + rescode)\n"
   ]
  },
  {
   "cell_type": "code",
   "execution_count": null,
   "metadata": {},
   "outputs": [],
   "source": []
  }
 ],
 "metadata": {
  "kernelspec": {
   "display_name": "Python 3",
   "language": "python",
   "name": "python3"
  },
  "language_info": {
   "codemirror_mode": {
    "name": "ipython",
    "version": 3
   },
   "file_extension": ".py",
   "mimetype": "text/x-python",
   "name": "python",
   "nbconvert_exporter": "python",
   "pygments_lexer": "ipython3",
   "version": "3.7.3"
  }
 },
 "nbformat": 4,
 "nbformat_minor": 2
}
