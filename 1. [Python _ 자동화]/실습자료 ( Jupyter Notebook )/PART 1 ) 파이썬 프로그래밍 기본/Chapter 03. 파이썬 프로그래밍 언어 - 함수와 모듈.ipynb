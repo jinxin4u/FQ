{
 "cells": [
  {
   "cell_type": "markdown",
   "metadata": {},
   "source": [
    "# 함수\n",
    "* 특정 작업을 수행 할 때마다 코드를 여러 번 작성하는 대신 해당 코드를 가진 함수를 만들어서 호출합니다.\n",
    "* 함수는 def 키워드를 사용하여 정의합니다.\n",
    "* def 함수명(인수) : "
   ]
  },
  {
   "cell_type": "code",
   "execution_count": 4,
   "metadata": {},
   "outputs": [],
   "source": [
    "def say():\n",
    "    print (\"안녕하세요\")"
   ]
  },
  {
   "cell_type": "code",
   "execution_count": 5,
   "metadata": {},
   "outputs": [
    {
     "name": "stdout",
     "output_type": "stream",
     "text": [
      "안녕하세요\n"
     ]
    }
   ],
   "source": [
    "say()"
   ]
  },
  {
   "cell_type": "markdown",
   "metadata": {},
   "source": [
    "* 함수가 정의되지 않은 상태에서 호출하면 당연히 오류가 발생합니다."
   ]
  },
  {
   "cell_type": "code",
   "execution_count": 6,
   "metadata": {},
   "outputs": [
    {
     "ename": "NameError",
     "evalue": "name 'say2' is not defined",
     "output_type": "error",
     "traceback": [
      "\u001b[0;31m---------------------------------------------------------------------------\u001b[0m",
      "\u001b[0;31mNameError\u001b[0m                                 Traceback (most recent call last)",
      "\u001b[0;32m<ipython-input-6-88b0a69d2425>\u001b[0m in \u001b[0;36m<module>\u001b[0;34m\u001b[0m\n\u001b[0;32m----> 1\u001b[0;31m \u001b[0msay2\u001b[0m\u001b[0;34m(\u001b[0m\u001b[0;34m)\u001b[0m\u001b[0;34m\u001b[0m\u001b[0;34m\u001b[0m\u001b[0m\n\u001b[0m",
      "\u001b[0;31mNameError\u001b[0m: name 'say2' is not defined"
     ]
    }
   ],
   "source": [
    "say2()"
   ]
  },
  {
   "cell_type": "markdown",
   "metadata": {},
   "source": [
    "## 함수의 인자값\n",
    "* 소괄호안에 인자를 전달할수 있습니다. \n",
    "* 인자의 개수 및 가변인수(개수가 정해해지 않은 인자)까지 전달할 수 있습니다. "
   ]
  },
  {
   "cell_type": "code",
   "execution_count": 7,
   "metadata": {},
   "outputs": [],
   "source": [
    "def say2(name):\n",
    "    print (\"{} 안녕하세요\".format(name))"
   ]
  },
  {
   "cell_type": "code",
   "execution_count": 8,
   "metadata": {},
   "outputs": [
    {
     "name": "stdout",
     "output_type": "stream",
     "text": [
      "수강생님 안녕하세요\n"
     ]
    }
   ],
   "source": [
    "say2('수강생님')"
   ]
  },
  {
   "cell_type": "markdown",
   "metadata": {},
   "source": [
    "* 인자값을 정의한 사용자 함수에서 호출시에 인자값을 전달하지 않으면 오류가 발생합니다."
   ]
  },
  {
   "cell_type": "code",
   "execution_count": 9,
   "metadata": {
    "scrolled": true
   },
   "outputs": [
    {
     "ename": "TypeError",
     "evalue": "say2() missing 1 required positional argument: 'name'",
     "output_type": "error",
     "traceback": [
      "\u001b[0;31m---------------------------------------------------------------------------\u001b[0m",
      "\u001b[0;31mTypeError\u001b[0m                                 Traceback (most recent call last)",
      "\u001b[0;32m<ipython-input-9-88b0a69d2425>\u001b[0m in \u001b[0;36m<module>\u001b[0;34m\u001b[0m\n\u001b[0;32m----> 1\u001b[0;31m \u001b[0msay2\u001b[0m\u001b[0;34m(\u001b[0m\u001b[0;34m)\u001b[0m\u001b[0;34m\u001b[0m\u001b[0;34m\u001b[0m\u001b[0m\n\u001b[0m",
      "\u001b[0;31mTypeError\u001b[0m: say2() missing 1 required positional argument: 'name'"
     ]
    }
   ],
   "source": [
    "say2()"
   ]
  },
  {
   "cell_type": "markdown",
   "metadata": {},
   "source": [
    "* 2개 이상의 인자값 설정하기 "
   ]
  },
  {
   "cell_type": "code",
   "execution_count": 10,
   "metadata": {},
   "outputs": [],
   "source": [
    "def stock(name, start):\n",
    "    print (\"{}의 시가는 {}입니다.\".format(name, start))"
   ]
  },
  {
   "cell_type": "code",
   "execution_count": 11,
   "metadata": {},
   "outputs": [
    {
     "name": "stdout",
     "output_type": "stream",
     "text": [
      "삼성전자의 시가는 43000입니다.\n"
     ]
    }
   ],
   "source": [
    "stock('삼성전자','43000')"
   ]
  },
  {
   "cell_type": "code",
   "execution_count": 12,
   "metadata": {},
   "outputs": [
    {
     "name": "stdout",
     "output_type": "stream",
     "text": [
      "43000의 시가는 삼성전자입니다.\n"
     ]
    }
   ],
   "source": [
    "stock(43000, '삼성전자')"
   ]
  },
  {
   "cell_type": "markdown",
   "metadata": {},
   "source": [
    "* 인자값의 이름을 직접 적어서 전달할 수도 있습니다."
   ]
  },
  {
   "cell_type": "code",
   "execution_count": 13,
   "metadata": {},
   "outputs": [
    {
     "name": "stdout",
     "output_type": "stream",
     "text": [
      "삼성전자의 시가는 43000입니다.\n"
     ]
    }
   ],
   "source": [
    "stock(start=43000, name='삼성전자')"
   ]
  },
  {
   "cell_type": "markdown",
   "metadata": {},
   "source": [
    "### 인자에 기본 값 설정하기 \n",
    "* 인자값을 기본값을 설정할 수 있습니다. \n",
    "* 인자의 기본값이 설정된 함수를 호출할때 인자값을 넘기지 않는다면 인자값은 자동으로 설정된 값으로 적용됩니다.\n",
    "    > 기본값이 설정된 인자라도 해당 인자값이 넘어오면 넘어오는 인자 우선입니다."
   ]
  },
  {
   "cell_type": "code",
   "execution_count": 18,
   "metadata": {},
   "outputs": [],
   "source": [
    "def stock2(start, name = '삼성전자'):\n",
    "    print (\"{}의 시가는 {}입니다.\".format(name, start))"
   ]
  },
  {
   "cell_type": "code",
   "execution_count": 19,
   "metadata": {},
   "outputs": [
    {
     "name": "stdout",
     "output_type": "stream",
     "text": [
      "엘지전자의 시가는 43000입니다.\n"
     ]
    }
   ],
   "source": [
    "stock2(43000, '엘지전자')"
   ]
  },
  {
   "cell_type": "code",
   "execution_count": 20,
   "metadata": {},
   "outputs": [],
   "source": [
    "def stock2(start, name = '삼성전자'):\n",
    "    print (\"{}의 시가는 {}입니다.\".format(name, start))"
   ]
  },
  {
   "cell_type": "code",
   "execution_count": 21,
   "metadata": {},
   "outputs": [
    {
     "name": "stdout",
     "output_type": "stream",
     "text": [
      "삼성전자의 시가는 43000입니다.\n"
     ]
    }
   ],
   "source": [
    "stock2(43000)"
   ]
  },
  {
   "cell_type": "markdown",
   "metadata": {},
   "source": [
    "* Q : 처음 예제는 stock(name, start)으로 정의했는데, 왜 기본 값이 있는 함수에는 인자값의 순서가 변경되었을까요?\n",
    "* A : 함수를 정의할 때 기본값이 없는 인자가 기본값이 있는 인자보다 무조건 앞에 나와야 합니다. 그렇지 않으면 오류가 발생합니다\n",
    "\n",
    "* 아래 예제는 기본값을 설정한 인자가 먼저 나왔기 때문에 오류가 발생합니다."
   ]
  },
  {
   "cell_type": "code",
   "execution_count": 24,
   "metadata": {},
   "outputs": [
    {
     "ename": "SyntaxError",
     "evalue": "non-default argument follows default argument (<ipython-input-24-605266f73a7c>, line 1)",
     "output_type": "error",
     "traceback": [
      "\u001b[0;36m  File \u001b[0;32m\"<ipython-input-24-605266f73a7c>\"\u001b[0;36m, line \u001b[0;32m1\u001b[0m\n\u001b[0;31m    def stock2( name = '삼성전자', start):\u001b[0m\n\u001b[0m               ^\u001b[0m\n\u001b[0;31mSyntaxError\u001b[0m\u001b[0;31m:\u001b[0m non-default argument follows default argument\n"
     ]
    }
   ],
   "source": [
    "def stock2( name = '삼성전자', start):\n",
    "    print (\"{}의 시가는 {}입니다.\".format(name, start))"
   ]
  },
  {
   "cell_type": "markdown",
   "metadata": {},
   "source": [
    "## 가변인수\n",
    "* 해당 내용은 PPT에 없지만 참고용 설명자료입니다. \n",
    "* 가변인수는 인수가 정해지지 않고 호출할때 정해지지 않은 인수를 넘길수 있습니다.\n",
    "* 인수이름 앞에 *를 붙여서 가변인수라고 정의하면 됩니다."
   ]
  },
  {
   "cell_type": "code",
   "execution_count": 25,
   "metadata": {},
   "outputs": [],
   "source": [
    "def print_all_test(*args):\n",
    "    print (type(args))\n",
    "    print (args)"
   ]
  },
  {
   "cell_type": "markdown",
   "metadata": {},
   "source": [
    "* 가변인수는 데이터를 tuple로 전달받습니다.\n",
    "* tuple로 전달받은 인수를 함수 내부 코드에서 사용하시면 됩니다. "
   ]
  },
  {
   "cell_type": "code",
   "execution_count": 31,
   "metadata": {},
   "outputs": [
    {
     "name": "stdout",
     "output_type": "stream",
     "text": [
      "<class 'tuple'>\n",
      "()\n"
     ]
    }
   ],
   "source": [
    "print_all_test()"
   ]
  },
  {
   "cell_type": "code",
   "execution_count": 32,
   "metadata": {},
   "outputs": [
    {
     "name": "stdout",
     "output_type": "stream",
     "text": [
      "<class 'tuple'>\n",
      "(1,)\n"
     ]
    }
   ],
   "source": [
    "print_all_test(1)"
   ]
  },
  {
   "cell_type": "code",
   "execution_count": 33,
   "metadata": {},
   "outputs": [
    {
     "name": "stdout",
     "output_type": "stream",
     "text": [
      "<class 'tuple'>\n",
      "(1, 2, 3)\n"
     ]
    }
   ],
   "source": [
    "print_all_test(1,2,3)"
   ]
  },
  {
   "cell_type": "code",
   "execution_count": 34,
   "metadata": {},
   "outputs": [
    {
     "name": "stdout",
     "output_type": "stream",
     "text": [
      "<class 'tuple'>\n",
      "(1, 2, 3, 4, 5, 6, 7, 8, 9, 10)\n"
     ]
    }
   ],
   "source": [
    "print_all_test(1,2,3,4,5,6,7,8,9,10)"
   ]
  },
  {
   "cell_type": "markdown",
   "metadata": {},
   "source": [
    "### return\n",
    "* 함수의 반환 값(return)\n",
    "* 작업을 했으면 결과를 넘겨줘야 할 때가 있죠... 함수도 마찬가지 입니다. 그때 사용하는 키워드가 return입니다.\n",
    "* return을 만나면 return 오른쪽에 있는 값을 밖에 전달하고 그 함수는 종료가 됩니다. \n",
    "* 어디서든 상관없이 return을 만나면 종료됩니다. 기억하세요"
   ]
  },
  {
   "cell_type": "code",
   "execution_count": 35,
   "metadata": {},
   "outputs": [],
   "source": [
    "def odd_or_even(number):\n",
    "    if number % 2 == 0:\n",
    "        return '짝수'\n",
    "    else:\n",
    "        return '홀수'\n",
    "    print ('이 프린트 문이 실행이 될까요?')"
   ]
  },
  {
   "cell_type": "code",
   "execution_count": 36,
   "metadata": {},
   "outputs": [
    {
     "data": {
      "text/plain": [
       "'홀수'"
      ]
     },
     "execution_count": 36,
     "metadata": {},
     "output_type": "execute_result"
    }
   ],
   "source": [
    "odd_or_even(15)"
   ]
  },
  {
   "cell_type": "markdown",
   "metadata": {},
   "source": [
    "* return은 꼭 값을 하나만 넘기라는 법은 없습니다. \n",
    "* 아래 예제는 number, 문자열을 넘깁니다. \n",
    "* 함수는 2개 이상의 값을 밖으로 넘길때 tuple 형태로 넘깁니다."
   ]
  },
  {
   "cell_type": "code",
   "execution_count": 40,
   "metadata": {},
   "outputs": [],
   "source": [
    "def odd_or_even2(number):\n",
    "    if number % 2 == 0:\n",
    "        return number, '짝수'\n",
    "    else:\n",
    "        return number, '홀수'\n",
    "    print ('이 프린트 문이 실행이 될까요?')"
   ]
  },
  {
   "cell_type": "code",
   "execution_count": 41,
   "metadata": {},
   "outputs": [
    {
     "data": {
      "text/plain": [
       "(15, '홀수')"
      ]
     },
     "execution_count": 41,
     "metadata": {},
     "output_type": "execute_result"
    }
   ],
   "source": [
    "odd_or_even2(15)"
   ]
  },
  {
   "cell_type": "markdown",
   "metadata": {},
   "source": [
    "* tuple로 받은 데이터를 언패킹하여 내가 원하는 변수에 넣을수 있습니다. \n",
    "* 머신러닝, 딥러닝 책을 공부하다보면 참고로 언패킹할때 _ 변수명을 사용해서 변수를 받을 때가 있습니다. _는 그냥 안쓰는 데이터인데 받을때 이렇게 많이 사용합니다. "
   ]
  },
  {
   "cell_type": "code",
   "execution_count": 45,
   "metadata": {},
   "outputs": [],
   "source": [
    "numb, text = odd_or_even2(15)"
   ]
  },
  {
   "cell_type": "code",
   "execution_count": 46,
   "metadata": {},
   "outputs": [
    {
     "data": {
      "text/plain": [
       "15"
      ]
     },
     "execution_count": 46,
     "metadata": {},
     "output_type": "execute_result"
    }
   ],
   "source": [
    "numb"
   ]
  },
  {
   "cell_type": "code",
   "execution_count": 47,
   "metadata": {},
   "outputs": [
    {
     "data": {
      "text/plain": [
       "'홀수'"
      ]
     },
     "execution_count": 47,
     "metadata": {},
     "output_type": "execute_result"
    }
   ],
   "source": [
    "text"
   ]
  },
  {
   "cell_type": "markdown",
   "metadata": {},
   "source": [
    "### 지역변수 \n",
    "* 함수 내부적으로 사용되는 변수를 지역변수(local)라고 합니다. \n",
    "* 함수 외부에선 접근할 수 없습니다."
   ]
  },
  {
   "cell_type": "code",
   "execution_count": 48,
   "metadata": {},
   "outputs": [],
   "source": [
    "def calculateTax(price, tax_rate):\n",
    "    total = price + (price * tax_rate)\n",
    "    return total"
   ]
  },
  {
   "cell_type": "code",
   "execution_count": 49,
   "metadata": {},
   "outputs": [
    {
     "data": {
      "text/plain": [
       "212000.0"
      ]
     },
     "execution_count": 49,
     "metadata": {},
     "output_type": "execute_result"
    }
   ],
   "source": [
    "calculateTax(200000, 0.06)"
   ]
  },
  {
   "cell_type": "markdown",
   "metadata": {},
   "source": [
    "* 함수 내부의 변수에 접근할려고 하니 외부에선 모르는 변수라... 오류가 발생합니다."
   ]
  },
  {
   "cell_type": "code",
   "execution_count": 51,
   "metadata": {},
   "outputs": [
    {
     "ename": "NameError",
     "evalue": "name 'price' is not defined",
     "output_type": "error",
     "traceback": [
      "\u001b[0;31m---------------------------------------------------------------------------\u001b[0m",
      "\u001b[0;31mNameError\u001b[0m                                 Traceback (most recent call last)",
      "\u001b[0;32m<ipython-input-51-428d1bbfcd29>\u001b[0m in \u001b[0;36m<module>\u001b[0;34m\u001b[0m\n\u001b[0;32m----> 1\u001b[0;31m \u001b[0mprice\u001b[0m\u001b[0;34m\u001b[0m\u001b[0;34m\u001b[0m\u001b[0m\n\u001b[0m",
      "\u001b[0;31mNameError\u001b[0m: name 'price' is not defined"
     ]
    }
   ],
   "source": [
    "price"
   ]
  },
  {
   "cell_type": "markdown",
   "metadata": {},
   "source": [
    "### 전역변수\n",
    "* 프로그램 전체에 영역에서 활동할수 있는 변수를 전역변수라고 합니다. \n",
    "* 아래 예제의 your_price는 함수 내부에서 사용하긴 하지만 외부에서 선언이 된 변수기 때문에 전역입니다.\n",
    "* 함수 내부에서도 전역변수는 사용할수 있습니다."
   ]
  },
  {
   "cell_type": "code",
   "execution_count": 55,
   "metadata": {},
   "outputs": [],
   "source": [
    "def calculateTax2(price, tax_rate):\n",
    "    total = price + (price * tax_rate)\n",
    "    print (\"your price {} and totla price {}\".format(your_price, total))\n",
    "    return total"
   ]
  },
  {
   "cell_type": "code",
   "execution_count": 56,
   "metadata": {},
   "outputs": [],
   "source": [
    "your_price = 99999998"
   ]
  },
  {
   "cell_type": "code",
   "execution_count": 57,
   "metadata": {},
   "outputs": [
    {
     "name": "stdout",
     "output_type": "stream",
     "text": [
      "your price 99999998 and totla price 212000.0\n"
     ]
    },
    {
     "data": {
      "text/plain": [
       "212000.0"
      ]
     },
     "execution_count": 57,
     "metadata": {},
     "output_type": "execute_result"
    }
   ],
   "source": [
    "calculateTax2(200000, 0.06)"
   ]
  },
  {
   "cell_type": "markdown",
   "metadata": {},
   "source": [
    "* 전역변수, 지역변수 변수명이 동일할 때 우선순위는 지역변수입니다.\n",
    "* 아래 예제는 x라는 변수가 test함수안에도 전역에도 있지만 test함수 안에서 같은 변수명이라도 지역변수가 우선입니다."
   ]
  },
  {
   "cell_type": "code",
   "execution_count": 59,
   "metadata": {},
   "outputs": [
    {
     "name": "stdout",
     "output_type": "stream",
     "text": [
      "1 94639894733856\n",
      "10 94639894734144\n"
     ]
    }
   ],
   "source": [
    "# id() 함수는 변수의 주소값을 알려주는 함수입니다. \n",
    "def test():\n",
    "    x = 1\n",
    "    print (x, id(x))\n",
    "    \n",
    "x = 10\n",
    "test()\n",
    "print (x, id(x))"
   ]
  },
  {
   "cell_type": "markdown",
   "metadata": {},
   "source": [
    "* global 키워드를 사용해서 지역변수에서 전역변수(동일한 이름)을 사용하기 \n",
    "* 함수 내부에서 global 키워드를 사용하면 비록 내부에서 선언된 변수지만 전역변수로 승격? 시켜줍니다."
   ]
  },
  {
   "cell_type": "code",
   "execution_count": 62,
   "metadata": {},
   "outputs": [
    {
     "name": "stdout",
     "output_type": "stream",
     "text": [
      "1 94639894733856\n",
      "1 94639894733856\n"
     ]
    }
   ],
   "source": [
    "def test():\n",
    "    global x\n",
    "    x = 1\n",
    "    print (x, id(x))\n",
    "    \n",
    "x = 10\n",
    "test()\n",
    "print (x, id(x))"
   ]
  },
  {
   "cell_type": "code",
   "execution_count": 65,
   "metadata": {},
   "outputs": [
    {
     "name": "stdout",
     "output_type": "stream",
     "text": [
      "1\n",
      "1\n"
     ]
    }
   ],
   "source": [
    "def test2():\n",
    "    global y\n",
    "    y = 1\n",
    "    print (y)\n",
    "# test2가 실행이되면서 y 변수가 global 키워드로 인해서 전역으로 승격(?) 되었습니다.\n",
    "test2()\n",
    "# 함수 내부에 있는 y를 외부에서 사용할 수 있습니다. \n",
    "print (y)"
   ]
  },
  {
   "cell_type": "markdown",
   "metadata": {},
   "source": [
    "## lambda\n",
    "* 이름이 없는 함수, 수식으로 표현한 함수등등 lambda 함수를 설명하는 말들입니다.\n",
    "* 이름이 없고, 수식만으로 표현한 함수이기 때문에 map()함수, 함수를 매개변수로 전달받는 함수등...에서 사용합니다.\n",
    "    > sorted() 함수 기억나시나요? 자료구조시간에 배울때 정령할때 사용한 함수이고 key 매개변수에 lambda 함수를 전달했습니다.(복습)"
   ]
  },
  {
   "cell_type": "code",
   "execution_count": 72,
   "metadata": {},
   "outputs": [],
   "source": [
    "def my_function(x):\n",
    "    return x**2"
   ]
  },
  {
   "cell_type": "code",
   "execution_count": 73,
   "metadata": {},
   "outputs": [
    {
     "data": {
      "text/plain": [
       "25"
      ]
     },
     "execution_count": 73,
     "metadata": {},
     "output_type": "execute_result"
    }
   ],
   "source": [
    "my_function(5)"
   ]
  },
  {
   "cell_type": "markdown",
   "metadata": {},
   "source": [
    "* 위의 함수를 lambda함수로 표현하면 아래와 같습니다."
   ]
  },
  {
   "cell_type": "code",
   "execution_count": 74,
   "metadata": {},
   "outputs": [
    {
     "data": {
      "text/plain": [
       "25"
      ]
     },
     "execution_count": 74,
     "metadata": {},
     "output_type": "execute_result"
    }
   ],
   "source": [
    "(lambda x : x**2)(5)"
   ]
  },
  {
   "cell_type": "markdown",
   "metadata": {},
   "source": [
    "# 모듈\n",
    "* 파이썬은 기능들이 다 모듈화되어 있습니다. \n",
    "* 해당 기능을 호출해야만 그때부터 모듈을 사용할 수 있습니다. \n",
    "* 모듈의 종류는 3가지가 있습니다.\n",
    "    > standard library\n",
    "    \n",
    "    > third party \n",
    "    \n",
    "    > 사용자 모듈\n",
    "    \n",
    "* 모듈은 from, import를 사용해서 호출합니다."
   ]
  },
  {
   "cell_type": "markdown",
   "metadata": {},
   "source": [
    "* math는 standard library입니다. 표준으로 파이썬에서 제공하는 기능이고, 그 기능을 호출하겠습니다.\n",
    "* math 모듈은 많은 함수들을 가지고 있습니다. \n",
    "\n",
    "### 모듈을 사용하는 3가지 방법\n",
    "* import math\n",
    "    > math가 가지고 있는 함수를 다 사용할 꺼야!!"
   ]
  },
  {
   "cell_type": "code",
   "execution_count": 76,
   "metadata": {},
   "outputs": [],
   "source": [
    "import math"
   ]
  },
  {
   "cell_type": "markdown",
   "metadata": {},
   "source": [
    "* 그럼 math가 가지고 있는 함수를 호출할때??? .을 사용합니다."
   ]
  },
  {
   "cell_type": "code",
   "execution_count": 77,
   "metadata": {},
   "outputs": [
    {
     "data": {
      "text/plain": [
       "3.141592653589793"
      ]
     },
     "execution_count": 77,
     "metadata": {},
     "output_type": "execute_result"
    }
   ],
   "source": [
    "math.pi"
   ]
  },
  {
   "cell_type": "markdown",
   "metadata": {},
   "source": [
    "* 모듈명.함수명    이렇게 하니 약간은 불편하는 분도 계시겠죠?\n",
    "* 그래서 from 모듈 import 함수 이렇게 사용하면 \n",
    "    > 모듈에서 특정 함수만 꺼내서 그냥 이름만 호출할꺼야!!"
   ]
  },
  {
   "cell_type": "markdown",
   "metadata": {},
   "source": [
    "### 2번째"
   ]
  },
  {
   "cell_type": "code",
   "execution_count": 78,
   "metadata": {},
   "outputs": [],
   "source": [
    "# math 모듈에서 sqrt 함수만 호출할꺼야... 근데 sqrt 무려 4개로 구성되어 있어서 귀찮으니... as로 별명을... \n",
    "# 별명이 붙은 다음부턴 별명을 부릅니다.\n",
    "from math import sqrt as sq"
   ]
  },
  {
   "cell_type": "code",
   "execution_count": 80,
   "metadata": {},
   "outputs": [
    {
     "ename": "NameError",
     "evalue": "name 'sqrt' is not defined",
     "output_type": "error",
     "traceback": [
      "\u001b[0;31m---------------------------------------------------------------------------\u001b[0m",
      "\u001b[0;31mNameError\u001b[0m                                 Traceback (most recent call last)",
      "\u001b[0;32m<ipython-input-80-4b56af8d3193>\u001b[0m in \u001b[0;36m<module>\u001b[0;34m\u001b[0m\n\u001b[1;32m      1\u001b[0m \u001b[0;31m# 별명을 부르기로 했으면서...\u001b[0m\u001b[0;34m\u001b[0m\u001b[0;34m\u001b[0m\u001b[0;34m\u001b[0m\u001b[0m\n\u001b[0;32m----> 2\u001b[0;31m \u001b[0msqrt\u001b[0m\u001b[0;34m(\u001b[0m\u001b[0;36m20\u001b[0m\u001b[0;34m)\u001b[0m\u001b[0;34m\u001b[0m\u001b[0;34m\u001b[0m\u001b[0m\n\u001b[0m",
      "\u001b[0;31mNameError\u001b[0m: name 'sqrt' is not defined"
     ]
    }
   ],
   "source": [
    "# 별명을 부르기로 했으면서...\n",
    "sqrt(20)"
   ]
  },
  {
   "cell_type": "code",
   "execution_count": 81,
   "metadata": {},
   "outputs": [
    {
     "data": {
      "text/plain": [
       "3.1622776601683795"
      ]
     },
     "execution_count": 81,
     "metadata": {},
     "output_type": "execute_result"
    }
   ],
   "source": [
    "sq(10)"
   ]
  },
  {
   "cell_type": "markdown",
   "metadata": {},
   "source": [
    "### 3번째 \n",
    "* from 모듈 import 특정 함수 라고 하니 난... 다 쓰고 싶은데... 그럼 다 적어야하나? 이런 생각이? \n",
    "* 그래서\n",
    "    > from 모듈 import * \n",
    "    \n",
    "* 이때부터는 모듈 안에 있는 모든 함수를 그냥 이름만 부르면 됩니다.... 하지만 그전에 같은 이름인데 있다면? 누가 호출될려나..   "
   ]
  },
  {
   "cell_type": "code",
   "execution_count": 83,
   "metadata": {},
   "outputs": [
    {
     "data": {
      "text/plain": [
       "256"
      ]
     },
     "execution_count": 83,
     "metadata": {},
     "output_type": "execute_result"
    }
   ],
   "source": [
    "pow(2,8)"
   ]
  },
  {
   "cell_type": "code",
   "execution_count": 85,
   "metadata": {},
   "outputs": [],
   "source": [
    "from math import *"
   ]
  },
  {
   "cell_type": "code",
   "execution_count": 87,
   "metadata": {},
   "outputs": [
    {
     "data": {
      "text/plain": [
       "256.0"
      ]
     },
     "execution_count": 87,
     "metadata": {},
     "output_type": "execute_result"
    }
   ],
   "source": [
    "# 내장 함수 pow가 실행될지.... math의 pow가 실행될지 실행해봅시다.\n",
    "pow(2,8)"
   ]
  },
  {
   "cell_type": "markdown",
   "metadata": {},
   "source": [
    "## 사용자 모듈 만들기\n",
    "* 아래 코드를 메모장에 적고 my_module.py라고 저장합니다."
   ]
  },
  {
   "cell_type": "code",
   "execution_count": 88,
   "metadata": {},
   "outputs": [],
   "source": [
    "\"\"\"모듈명 : my_module\n",
    "    c_to_f(celsius) : 섭씨를 화씨로 변환합니다. \n",
    "    f_to_c(Fahrenheit) : 화씨를 섭씨로 변환합니다.\"\"\"\n",
    "\n",
    "def c_to_f(celsius):\n",
    "    Fahrenheit = celsius * 9.0 / 5 + 32\n",
    "    return Fahrenheit\n",
    "\n",
    "def f_to_c(Fahrenheit):\n",
    "    celsius = (Fahrenheit - 32) * 5 / 9\n",
    "    return celsius"
   ]
  },
  {
   "cell_type": "markdown",
   "metadata": {},
   "source": [
    "* sys 모듈의 path 메소드(함수)를 사용하면 내가 지금 사용중인 파이썬의 모듈이 저장된 위치를 알수가 있습니다. "
   ]
  },
  {
   "cell_type": "code",
   "execution_count": null,
   "metadata": {},
   "outputs": [],
   "source": [
    "import sys\n",
    "sys.path"
   ]
  },
  {
   "cell_type": "markdown",
   "metadata": {},
   "source": [
    "* 저장된 파일을 위의 결과 폴더의 하나에 저장합니다."
   ]
  },
  {
   "cell_type": "code",
   "execution_count": 94,
   "metadata": {},
   "outputs": [],
   "source": [
    "import my_module"
   ]
  },
  {
   "cell_type": "markdown",
   "metadata": {},
   "source": [
    "* help() 함수를 실행하여 우리가 만든 모듈에 대해서 help를 요청하면 위에서 적은 내용이 나타납니다."
   ]
  },
  {
   "cell_type": "code",
   "execution_count": null,
   "metadata": {},
   "outputs": [],
   "source": [
    "help(my_module)"
   ]
  },
  {
   "cell_type": "code",
   "execution_count": 95,
   "metadata": {},
   "outputs": [
    {
     "data": {
      "text/plain": [
       "71.6"
      ]
     },
     "execution_count": 95,
     "metadata": {},
     "output_type": "execute_result"
    }
   ],
   "source": [
    "my_module.c_to_f(22)"
   ]
  },
  {
   "cell_type": "markdown",
   "metadata": {},
   "source": [
    "* 모듈에 있는 c_to_f를 바로 호출할 수 있도록 다시 설정합니다."
   ]
  },
  {
   "cell_type": "code",
   "execution_count": 98,
   "metadata": {},
   "outputs": [],
   "source": [
    "from my_module import c_to_f"
   ]
  },
  {
   "cell_type": "code",
   "execution_count": 99,
   "metadata": {},
   "outputs": [
    {
     "data": {
      "text/plain": [
       "71.6"
      ]
     },
     "execution_count": 99,
     "metadata": {},
     "output_type": "execute_result"
    }
   ],
   "source": [
    "c_to_f(22)"
   ]
  }
 ],
 "metadata": {
  "kernelspec": {
   "display_name": "Python 3",
   "language": "python",
   "name": "python3"
  },
  "language_info": {
   "codemirror_mode": {
    "name": "ipython",
    "version": 3
   },
   "file_extension": ".py",
   "mimetype": "text/x-python",
   "name": "python",
   "nbconvert_exporter": "python",
   "pygments_lexer": "ipython3",
   "version": "3.7.2"
  }
 },
 "nbformat": 4,
 "nbformat_minor": 2
}
