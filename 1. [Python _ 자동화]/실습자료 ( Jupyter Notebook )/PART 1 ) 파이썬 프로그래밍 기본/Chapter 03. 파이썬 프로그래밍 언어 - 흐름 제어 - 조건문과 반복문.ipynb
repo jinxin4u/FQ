{
 "cells": [
  {
   "cell_type": "markdown",
   "metadata": {},
   "source": [
    "# 조건문 if문\n",
    "* if 문은 조건문에서 조건식이 참인지 거짓인지 판단하여 문장을 실행합니다. "
   ]
  },
  {
   "cell_type": "markdown",
   "metadata": {},
   "source": [
    "* 아래 예제는 if문을 사용하여 조건문(speed >= 110)이 참일 때 실행이 됩니다.\n",
    "* if문의 끝은 콜론(:)으로 끝나며 콜론 다음줄은 반드시 들여쓰기가 되어야 합니다. \n",
    "* 들여쓰기가 되어 있다는 의미는 바로 위의 if문이 참일 때 실행이 된다는 의미입니다."
   ]
  },
  {
   "cell_type": "code",
   "execution_count": 1,
   "metadata": {},
   "outputs": [
    {
     "name": "stdout",
     "output_type": "stream",
     "text": [
      "과속입니다.\n",
      "과속입니다.\n",
      "안전운행\n"
     ]
    }
   ],
   "source": [
    "speed = 120\n",
    "if speed >= 110:\n",
    " print (\"과속입니다.\")\n",
    " print (\"과속입니다.\")\n",
    "print (\"안전운행\")"
   ]
  },
  {
   "cell_type": "markdown",
   "metadata": {},
   "source": [
    "* 위 예제에서 들여쓰기를 일부러 주피터가 설정하는 크기가 아닌 스페이스 한칸으로 설정했습니다.\n",
    "* 들여쓰기는 해당 블록안에서 간격 약속만 지키면 오류는 나지 않습니다. "
   ]
  },
  {
   "cell_type": "markdown",
   "metadata": {},
   "source": [
    "## if ~ elif ~ else 구문\n",
    "* if문이 참이 아닐경우 실행이 되는 else 구문 예제입니다. \n",
    "* if문이 참이 아닐 경우 계속하여 조건을 추가할 수 있는데 그때 사용하는게 else if의 줄인 말인 elif입니다."
   ]
  },
  {
   "cell_type": "code",
   "execution_count": 3,
   "metadata": {},
   "outputs": [
    {
     "name": "stdout",
     "output_type": "stream",
     "text": [
      "정상속도입니다.\n",
      "안전운행\n"
     ]
    }
   ],
   "source": [
    "speed = 20\n",
    "if 130 <= speed:\n",
    "    print (\"130km 과속입니다.\")\n",
    "elif 120 <= speed:\n",
    "    print (\"120km 과속입니다.\")\n",
    "elif 110 <= speed:\n",
    "    print (\"110km 과속입니다.\")    \n",
    "else:\n",
    "    print (\"정상속도입니다.\")\n",
    "print (\"안전운행\")"
   ]
  },
  {
   "cell_type": "markdown",
   "metadata": {},
   "source": [
    "## input() 함수\n",
    "* input() 함수를 사용하면 사용자에게 키보드를 통해 값을 입력 받을수 있는데 숫자를 입력해도 문자로 인식합니다. \n",
    "* 그렇기 때문에 정수로 인식하기 위해서 int()함수로 변환시킵니다."
   ]
  },
  {
   "cell_type": "code",
   "execution_count": 6,
   "metadata": {},
   "outputs": [
    {
     "name": "stdout",
     "output_type": "stream",
     "text": [
      "입력하세요1\n"
     ]
    }
   ],
   "source": [
    "a = int(input(\"입력하세요\"))"
   ]
  },
  {
   "cell_type": "code",
   "execution_count": 7,
   "metadata": {},
   "outputs": [
    {
     "data": {
      "text/plain": [
       "1"
      ]
     },
     "execution_count": 7,
     "metadata": {},
     "output_type": "execute_result"
    }
   ],
   "source": [
    "a"
   ]
  },
  {
   "attachments": {},
   "cell_type": "markdown",
   "metadata": {},
   "source": [
    "##  문제 \n",
    "* if 문을 사용해서 다음 문장을 코드로 표현하고 실행하세요.\n",
    "\n",
    "*     Distance라는 변수에는 상수 값이 들어갈 예정입니다. \n",
    "*     이 distance가 3km이하로 작다면 “걸어가세요” 라고 말하고 \n",
    "*     3km보다 멀고 10km보다 작다면 “버스타세요”라고 말해야 합니다. \n",
    "*     만약 10km이상 간다면 “택시 타세요”라고 답할수 있는 조건문을 만들어보세요. \n",
    "*     그리고 조건문과 상관없이 마지막에 “수고하셨습니다.”라고 출력하세요."
   ]
  },
  {
   "cell_type": "markdown",
   "metadata": {},
   "source": [
    "# range() 함수\n",
    "* range() 함수는 사용자가 원하는 값을 생성해줍니다. \n",
    "* 단, range() 함수의 결과는 제너레이터로 값을 넘겨줍니다. 해당 내용은 파이썬 기초 마지막 시간에 배울 것입니다. \n",
    "* range(시작, 끝, 스텝)"
   ]
  },
  {
   "cell_type": "code",
   "execution_count": 8,
   "metadata": {},
   "outputs": [
    {
     "name": "stdout",
     "output_type": "stream",
     "text": [
      "0\n",
      "1\n",
      "2\n"
     ]
    }
   ],
   "source": [
    "for number in range(3):\n",
    "    print (number)"
   ]
  },
  {
   "cell_type": "code",
   "execution_count": 9,
   "metadata": {},
   "outputs": [
    {
     "name": "stdout",
     "output_type": "stream",
     "text": [
      "1\n",
      "2\n"
     ]
    }
   ],
   "source": [
    "for number in range(1, 3):\n",
    "    print (number)"
   ]
  },
  {
   "cell_type": "code",
   "execution_count": 10,
   "metadata": {},
   "outputs": [
    {
     "name": "stdout",
     "output_type": "stream",
     "text": [
      "1\n",
      "3\n",
      "5\n",
      "7\n",
      "9\n"
     ]
    }
   ],
   "source": [
    "for number in range(1, 10, 2):\n",
    "    print (number)"
   ]
  },
  {
   "cell_type": "markdown",
   "metadata": {},
   "source": [
    "# for 반복문\n",
    "* for문은 iterable 자료형을 반복해서 하나씩 데이터를 꺼내서 처리할 수 있습니다."
   ]
  },
  {
   "cell_type": "code",
   "execution_count": 2,
   "metadata": {},
   "outputs": [
    {
     "name": "stdout",
     "output_type": "stream",
     "text": [
      "1\n",
      "2\n",
      "3\n",
      "4\n",
      "5\n",
      "6\n",
      "7\n",
      "8\n",
      "9\n",
      "10\n",
      "11\n",
      "12\n"
     ]
    }
   ],
   "source": [
    "for i in range(1, 13):\n",
    "    print (i)"
   ]
  },
  {
   "cell_type": "markdown",
   "metadata": {},
   "source": [
    "* for문 안에 if 조건문을 추가하여 특정 조건이 참일 때 for문을 종료시키는 break문을 넣었습니다.\n",
    "* 아래 if 조건문을 보면 6일때 if문이 실행이 될것입니다."
   ]
  },
  {
   "cell_type": "code",
   "execution_count": 11,
   "metadata": {},
   "outputs": [
    {
     "name": "stdout",
     "output_type": "stream",
     "text": [
      "6\n"
     ]
    }
   ],
   "source": [
    "for i in range(1, 13):\n",
    "    if i % 2 == 0 and i % 3 == 0:\n",
    "        print (i)\n",
    "        break\n",
    "        print ('if statement')\n",
    "else:\n",
    "    print ('complete')"
   ]
  },
  {
   "cell_type": "markdown",
   "metadata": {},
   "source": [
    "* 위와 같은 구조이데 break 대신 continue로 변경되었습니다. \n",
    "* break는 for문을 강제 종료시키고, 그로 인해 else 구문이 실행이 되지 않지만,\n",
    "* continue 구문은 해당 반복은 여기서 끝내고 다음 반복으로 가자라고 이해하시면 될거 같습니다.\n",
    "* if 조문이 6,12 일때 참이 되겠습니다.\n",
    "    > 그렇기 때문에 정상적으로 for문이 반복 대상을 한번씩 가지고 와서 임무를 정상적으로 마칩니다.\n",
    "    > 정상적인 종료이기 때문에 else 구문이 실행이 됩니다."
   ]
  },
  {
   "cell_type": "code",
   "execution_count": 13,
   "metadata": {},
   "outputs": [
    {
     "name": "stdout",
     "output_type": "stream",
     "text": [
      "6\n",
      "12\n",
      "complete\n"
     ]
    }
   ],
   "source": [
    "for i in range(1, 13):\n",
    "    if i % 2 == 0 and i % 3 == 0:\n",
    "        print (i)\n",
    "        continue\n",
    "        print ('if statements')\n",
    "else:\n",
    "    print ('complete')"
   ]
  },
  {
   "cell_type": "code",
   "execution_count": 8,
   "metadata": {},
   "outputs": [
    {
     "name": "stdout",
     "output_type": "stream",
     "text": [
      "6\n"
     ]
    }
   ],
   "source": [
    "for i in range(1, 13):\n",
    "    if i % 2 == 0 and i % 3 == 0:\n",
    "        print (i)\n",
    "        break\n",
    "        print ('if statements')\n"
   ]
  },
  {
   "cell_type": "markdown",
   "metadata": {},
   "source": [
    "* 아래는 else 구문을 추가해서 실행한 예제입니다. \n",
    "* 다른 점이 바로 보이시나요? contiue하고 break의 차이를 이해가 되시나요?"
   ]
  },
  {
   "cell_type": "code",
   "execution_count": 14,
   "metadata": {},
   "outputs": [
    {
     "name": "stdout",
     "output_type": "stream",
     "text": [
      "complete\n",
      "complete\n",
      "complete\n",
      "complete\n",
      "complete\n",
      "6\n",
      "complete\n",
      "complete\n",
      "complete\n",
      "complete\n",
      "complete\n",
      "12\n"
     ]
    }
   ],
   "source": [
    "for i in range(1, 13):\n",
    "    if i % 2 == 0 and i % 3 == 0:\n",
    "        print (i)\n",
    "        continue\n",
    "        print ('if statements')\n",
    "    else:\n",
    "        print ('complete')"
   ]
  },
  {
   "cell_type": "code",
   "execution_count": 15,
   "metadata": {},
   "outputs": [
    {
     "name": "stdout",
     "output_type": "stream",
     "text": [
      "complete\n",
      "complete\n",
      "complete\n",
      "complete\n",
      "complete\n",
      "6\n"
     ]
    }
   ],
   "source": [
    "for i in range(1, 13):\n",
    "    if i % 2 == 0 and i % 3 == 0:\n",
    "        print (i)\n",
    "        break\n",
    "        print ('if statements')\n",
    "    else:\n",
    "        print ('complete')"
   ]
  },
  {
   "cell_type": "markdown",
   "metadata": {},
   "source": [
    "# while문 \n",
    "* while문은 for문보다 일반적인 반복문이지만, 잘못 사용하면 무한루프에 빠질수 있습니다."
   ]
  },
  {
   "cell_type": "code",
   "execution_count": 16,
   "metadata": {},
   "outputs": [
    {
     "name": "stdout",
     "output_type": "stream",
     "text": [
      "1\n",
      "2\n",
      "else block\n",
      "done\n"
     ]
    }
   ],
   "source": [
    "a = 0\n",
    "while a<10:\n",
    "    a += 1\n",
    "    if a < 3:\n",
    "        print (a)\n",
    "        continue\n",
    "        print ('continue')\n",
    "    if a> 10:\n",
    "        break\n",
    "else:\n",
    "    print ('else block')\n",
    "print ('done')"
   ]
  },
  {
   "cell_type": "code",
   "execution_count": 17,
   "metadata": {},
   "outputs": [
    {
     "name": "stdout",
     "output_type": "stream",
     "text": [
      "1\n",
      "2\n",
      "done\n"
     ]
    }
   ],
   "source": [
    "a = 0\n",
    "while a<10:\n",
    "    a += 1\n",
    "    if a < 3:\n",
    "        print (a)\n",
    "        continue\n",
    "        print ('continue')\n",
    "    if a> 6:\n",
    "        break\n",
    "else:\n",
    "    print ('else block')\n",
    "print ('done')"
   ]
  },
  {
   "cell_type": "markdown",
   "metadata": {},
   "source": [
    "* 위의 예제에서 a += 1 곧 a = a + 1 증가되는 구문이 빠진다면 while 조건은 항상 참이 되어 무한루프에 빠집니다.\n",
    "* 무한루프에 빠지면 해당 셀이 In [*] 되고 메뉴의 kernel에서 Interrupt 실행하십시요."
   ]
  },
  {
   "attachments": {},
   "cell_type": "markdown",
   "metadata": {},
   "source": [
    "# 문제\n",
    "윤년(閏年)은 역법을 실제 태양년에 맞추기 위해 여분의 하루 또는 월(月)을 끼우는 해이다. 태양년은 정수의 하루로 나누어떨어지지 않고, 달의 공전주기와 지구의 공전주기는 다르기 때문에 태양력에서는 하루(윤일), 태음태양력에서는 한 달(윤달)을 적절한 시기에 끼워서 이를 보정한다.  - Wikipedia\n",
    "윤년의 규칙\n",
    "1. 연수가 4로 나누어 떨어지는 해는 윤년으로 한다.\n",
    "     (2004, 2008, 2012, 2016, 2020)\n",
    "2. 이 중에서 100으로 나누어 떨어지는 해는 평년으로 한다. \n",
    "    ( 1900, 2100, 2200, 2300) \n",
    "3. 그 중에서 400으로 나누어 떨어지는 해는 윤년으로 둔다.\n",
    "위의 3가지 규칙을 사용하여 1900년부터 2100년까지 윤년을 출력하시요. \n"
   ]
  },
  {
   "cell_type": "code",
   "execution_count": null,
   "metadata": {},
   "outputs": [],
   "source": []
  },
  {
   "cell_type": "code",
   "execution_count": null,
   "metadata": {},
   "outputs": [],
   "source": []
  },
  {
   "cell_type": "code",
   "execution_count": null,
   "metadata": {},
   "outputs": [],
   "source": []
  }
 ],
 "metadata": {
  "kernelspec": {
   "display_name": "Python 3",
   "language": "python",
   "name": "python3"
  },
  "language_info": {
   "codemirror_mode": {
    "name": "ipython",
    "version": 3
   },
   "file_extension": ".py",
   "mimetype": "text/x-python",
   "name": "python",
   "nbconvert_exporter": "python",
   "pygments_lexer": "ipython3",
   "version": "3.7.2"
  }
 },
 "nbformat": 4,
 "nbformat_minor": 2
}
